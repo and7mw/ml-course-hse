{
 "cells": [
  {
   "cell_type": "markdown",
   "metadata": {
    "id": "LTlmjXExP75I"
   },
   "source": [
    "# Машинное обучение, ФКН ВШЭ\n",
    "\n",
    "## Практическое задание 4. Классификация"
   ]
  },
  {
   "cell_type": "markdown",
   "metadata": {
    "id": "kH11bAAV2SoV"
   },
   "source": [
    "### Общая информация\n",
    "Дата выдачи: 04.11.2022\n",
    "\n",
    "Мягкий дедлайн: 23:59MSK 16.11.2022\n",
    "\n",
    "Жесткий дедлайн: 23:59MSK 23.11.2022"
   ]
  },
  {
   "cell_type": "markdown",
   "metadata": {
    "id": "iWjJuhqS3Ucc"
   },
   "source": [
    "### О задании\n",
    "\n",
    "В этом задании вы:\n",
    "- ознакомитесь с тем, что происходит \"внутри\" метода опорных векторов и логистической регрессии\n",
    "- познакомитесь с калибровкой вероятности\n",
    "- изучите методы трансформации переменных и методы отбора признаков\n",
    "- попробуете оценить экономический эффект модели\n",
    "\n",
    "----\n",
    "\n",
    "#### Самостоятельная оценка результатов\n",
    "\n",
    "Для удобства проверки, исходя из набора решенных задач, посчитайте свою максимальную оценку.\n",
    "\n",
    "**Оценка**:"
   ]
  },
  {
   "cell_type": "markdown",
   "metadata": {
    "id": "Or0r6z5v1Mmt"
   },
   "source": [
    "### Оценивание и штрафы"
   ]
  },
  {
   "cell_type": "markdown",
   "metadata": {
    "id": "CecLXG_w3zs0"
   },
   "source": [
    "Каждая из задач имеет определенную «стоимость» (указана в скобках около задачи). Максимально допустимая оценка за работу — 10 баллов.\n",
    "\n",
    "Сдавать задание после указанного жёсткого дедлайна нельзя. При выставлении неполного балла за задание в связи с наличием ошибок на усмотрение проверяющего предусмотрена возможность исправить работу на указанных в ответном письме условиях.\n",
    "\n",
    "Задание выполняется самостоятельно. «Похожие» решения считаются плагиатом и все задействованные студенты (в том числе те, у кого списали) не могут получить за него больше 0 баллов (подробнее о плагиате см. на странице курса). Если вы нашли решение какого-то из заданий (или его часть) в открытом источнике, необходимо указать ссылку на этот источник в отдельном блоке в конце вашей работы (скорее всего вы будете не единственным, кто это нашел, поэтому чтобы исключить подозрение в плагиате, необходима ссылка на источник).\n",
    "\n",
    "Неэффективная реализация кода может негативно отразиться на оценке."
   ]
  },
  {
   "cell_type": "markdown",
   "metadata": {
    "id": "eMwMhTpA1MwR"
   },
   "source": [
    "### Формат сдачи"
   ]
  },
  {
   "cell_type": "markdown",
   "metadata": {
    "id": "O5qs8FC_35h7"
   },
   "source": [
    "Для сдачи задания переименуйте получившийся файл *.ipynb в соответствии со следующим форматом: homework-practice-04-linclass-__Username__.ipynb, где Username — ваша фамилия и имя на латинице именно в таком порядке (например, homework-practice-04-linclass-__IvanovIvan__.ipynb)."
   ]
  },
  {
   "cell_type": "markdown",
   "metadata": {
    "id": "KGWDDNDyP75O"
   },
   "source": [
    "# Часть 1. SVM, LR и калибровка вероятностей"
   ]
  },
  {
   "cell_type": "code",
   "execution_count": 1,
   "metadata": {
    "id": "jDyI9TST-3Ou"
   },
   "outputs": [],
   "source": [
    "# !pip install --upgrade scikit-learn"
   ]
  },
  {
   "cell_type": "code",
   "execution_count": 2,
   "metadata": {
    "id": "KyqoX1BNP75N"
   },
   "outputs": [],
   "source": [
    "import numpy as np\n",
    "import pandas as pd\n",
    "import matplotlib.pyplot as plt\n",
    "%matplotlib inline\n",
    "\n",
    "pd.set_option('display.max_rows', 100)\n",
    "pd.set_option('display.max_columns', 100)"
   ]
  },
  {
   "cell_type": "markdown",
   "metadata": {
    "id": "xvhLtt4OP75Q"
   },
   "source": [
    "#### __Задание 1.1  Сравнение методов__ (0.5 балла)\n",
    "\n"
   ]
  },
  {
   "cell_type": "markdown",
   "metadata": {
    "id": "LZw2aOq9P75O"
   },
   "source": [
    "Сгенерируем синтетические данные."
   ]
  },
  {
   "cell_type": "code",
   "execution_count": 3,
   "metadata": {
    "id": "mqkczFrQP75P"
   },
   "outputs": [],
   "source": [
    "from sklearn.datasets import make_classification\n",
    "from sklearn.model_selection import train_test_split\n",
    "\n",
    "# фиксируем random_state для воспроизводимости результатов\n",
    "X, y = make_classification(\n",
    "    n_samples=10000, n_features=10, n_informative=5, n_redundant=5, random_state=42)\n",
    "\n",
    "X_train, X_test, y_train, y_test = train_test_split(X, y, test_size=0.3, random_state=42)"
   ]
  },
  {
   "cell_type": "code",
   "execution_count": 4,
   "metadata": {},
   "outputs": [
    {
     "data": {
      "text/plain": [
       "(array([[ 1.97466438,  1.61558617, -0.37040336, ...,  0.81763962,\n",
       "         -0.81371692, -0.21738731],\n",
       "        [ 2.76652454,  3.53432402, -1.79801762, ...,  0.98655598,\n",
       "         -1.3004601 ,  0.35890156],\n",
       "        [-2.56471458, -2.96290226,  0.50106052, ...,  0.31155634,\n",
       "          0.55402296, -0.52836359],\n",
       "        ...,\n",
       "        [-0.71054065,  4.58718893, -3.17450386, ..., -3.3310495 ,\n",
       "         -5.01526968,  1.39888358],\n",
       "        [-3.45487124, -2.45303243,  0.24143767, ..., -0.35332958,\n",
       "          1.64386913,  0.31726181],\n",
       "        [-0.3476568 , -2.86971296,  2.65920138, ..., -1.70422768,\n",
       "          3.34662582,  0.26659057]]),\n",
       " array([1, 1, 0, ..., 1, 0, 0]))"
      ]
     },
     "execution_count": 4,
     "metadata": {},
     "output_type": "execute_result"
    }
   ],
   "source": [
    "X, y"
   ]
  },
  {
   "cell_type": "code",
   "execution_count": 5,
   "metadata": {},
   "outputs": [
    {
     "data": {
      "text/plain": [
       "((10000, 10), (10000,))"
      ]
     },
     "execution_count": 5,
     "metadata": {},
     "output_type": "execute_result"
    }
   ],
   "source": [
    "X.shape, y.shape"
   ]
  },
  {
   "cell_type": "markdown",
   "metadata": {
    "id": "BdPx-lQbtaRe"
   },
   "source": [
    "__Случайный классификатор__\n",
    "\n",
    "Для начала зададим самую простую модель, которая на каждом объекте выдаёт один из двух классов с равными вероятностями. По тестовой выборке вычислим AUC-ROC, AUC-PR."
   ]
  },
  {
   "cell_type": "code",
   "execution_count": 6,
   "metadata": {
    "colab": {
     "base_uri": "https://localhost:8080/"
    },
    "id": "0rqepy-AtZXc",
    "outputId": "4d532d1d-9654-4a63-e456-60f44a098443"
   },
   "outputs": [
    {
     "data": {
      "text/plain": [
       "array([0, 1, 1, ..., 0, 0, 1])"
      ]
     },
     "execution_count": 6,
     "metadata": {},
     "output_type": "execute_result"
    }
   ],
   "source": [
    "np.random.seed(42)\n",
    "\n",
    "# наш случайный классификатор\n",
    "y_random = np.random.choice([0, 1], size=len(y_test), p=[0.5, 0.5])\n",
    "y_random"
   ]
  },
  {
   "cell_type": "markdown",
   "metadata": {
    "id": "LnmZFwEYDVqx"
   },
   "source": [
    "*Ниже приведен **пример** работы* со встроенными функциями `sklearn` для отрисовки ROC и PR кривых, сохранения метрик. Пайплайн можно изменять как вам удобно, за особенно эффективные или красивые варианты может быть начислен небольшой бонус :)"
   ]
  },
  {
   "cell_type": "code",
   "execution_count": 7,
   "metadata": {
    "id": "gNJLhNj7DkLx"
   },
   "outputs": [],
   "source": [
    "from sklearn.metrics import auc\n",
    "from sklearn.metrics import average_precision_score\n",
    "from sklearn.metrics import precision_recall_curve\n",
    "from sklearn.metrics import PrecisionRecallDisplay\n",
    "\n",
    "from sklearn.metrics import roc_auc_score\n",
    "from sklearn.metrics import RocCurveDisplay"
   ]
  },
  {
   "cell_type": "code",
   "execution_count": 8,
   "metadata": {
    "colab": {
     "base_uri": "https://localhost:8080/",
     "height": 403
    },
    "id": "-WHELzN6_fsQ",
    "outputId": "47285a42-dd22-4591-af46-56bb8b54dfb2"
   },
   "outputs": [
    {
     "name": "stdout",
     "output_type": "stream",
     "text": [
      "AUC-PR: 0.63340\n",
      "AUC-ROC: 0.50394\n"
     ]
    },
    {
     "data": {
      "image/png": "[encoded data removed]",
      "text/plain": [
       "<Figure size 1100x500 with 2 Axes>"
      ]
     },
     "metadata": {},
     "output_type": "display_data"
    }
   ],
   "source": [
    "fig, ax = plt.subplots(1, 2, figsize=(11, 5))\n",
    "\n",
    "PrecisionRecallDisplay.from_predictions(y_test, y_random, ax=ax[0])\n",
    "precision, recall, _ = precision_recall_curve(y_test, y_random)\n",
    "print('AUC-PR: %.5f' % auc(recall, precision))\n",
    "ax[0].set_title(\"PRC for Random Classifier\")\n",
    "ax[0].set_ylim(0, 1.1)\n",
    "\n",
    "RocCurveDisplay.from_predictions(y_test, y_random, ax=ax[1])\n",
    "print('AUC-ROC: %.5f' % roc_auc_score(y_test, y_random))\n",
    "ax[1].set_title(\"ROC for Random Classifier\")\n",
    "ax[1].set_ylim(0, 1.1)\n",
    "\n",
    "plt.tight_layout()"
   ]
  },
  {
   "cell_type": "code",
   "execution_count": 9,
   "metadata": {
    "colab": {
     "base_uri": "https://localhost:8080/",
     "height": 80
    },
    "id": "pSugCdAAEF2z",
    "outputId": "9cc380d1-eb63-4e9f-a707-46e76092b4ed"
   },
   "outputs": [
    {
     "data": {
      "text/html": [
       "<div>\n",
       "<style scoped>\n",
       "    .dataframe tbody tr th:only-of-type {\n",
       "        vertical-align: middle;\n",
       "    }\n",
       "\n",
       "    .dataframe tbody tr th {\n",
       "        vertical-align: top;\n",
       "    }\n",
       "\n",
       "    .dataframe thead th {\n",
       "        text-align: right;\n",
       "    }\n",
       "</style>\n",
       "<table border=\"1\" class=\"dataframe\">\n",
       "  <thead>\n",
       "    <tr style=\"text-align: right;\">\n",
       "      <th></th>\n",
       "      <th>AUC_PR</th>\n",
       "      <th>AUC_ROC</th>\n",
       "      <th>reg_const</th>\n",
       "    </tr>\n",
       "  </thead>\n",
       "  <tbody>\n",
       "    <tr>\n",
       "      <th>Random Classifier</th>\n",
       "      <td>0.633402</td>\n",
       "      <td>0.503944</td>\n",
       "      <td>NaN</td>\n",
       "    </tr>\n",
       "  </tbody>\n",
       "</table>\n",
       "</div>"
      ],
      "text/plain": [
       "                     AUC_PR   AUC_ROC  reg_const\n",
       "Random Classifier  0.633402  0.503944        NaN"
      ]
     },
     "execution_count": 9,
     "metadata": {},
     "output_type": "execute_result"
    }
   ],
   "source": [
    "# dataframe для сравнения \n",
    "# методов классификации по метрикам\n",
    "df_metrics = pd.DataFrame(columns=['AUC_PR', 'AUC_ROC', 'reg_const'])\n",
    "\n",
    "# добавление очередной строки с характеристиками метода\n",
    "df_metrics.loc['Random Classifier'] = [\n",
    "    auc(recall, precision),\n",
    "    roc_auc_score(y_test, y_random),\n",
    "    None\n",
    "]\n",
    "\n",
    "# по аналогии результаты следующих экспериментов можно будет собрать в табличку\n",
    "df_metrics"
   ]
  },
  {
   "cell_type": "markdown",
   "metadata": {
    "id": "9IwDobmQtW2P"
   },
   "source": [
    "__Support Vector Machine (Linear Kernel)__\n",
    "\n",
    "Обучите метод опорных векторов. На занятиях мы проходили линейный вариант без ядрового перехода, что соответствует линейному ядру (`LinearSVC` или же `SVC(kernel='linear')` в `sklearn.svm`). Подберите параметр регуляризации `C` (можете воспользоваться кросс-валидацией или отделить валидационную выборку от обучающей).\n",
    "\n",
    "__NB!__ Здесь и далее, если не сказано иначе, подбирайте __оптимальные гиперпараметры с точки зрения AUC-PR.__"
   ]
  },
  {
   "cell_type": "code",
   "execution_count": 10,
   "metadata": {},
   "outputs": [],
   "source": [
    "from sklearn.metrics import make_scorer\n",
    "\n",
    "def auc_score(y_true, y_pred):\n",
    "    precision, recall, _ = precision_recall_curve(y_true, y_pred)\n",
    "    return auc(recall, precision)\n",
    "\n",
    "auc_scorer = make_scorer(\n",
    "    auc_score,\n",
    "    greater_is_better=True\n",
    ")"
   ]
  },
  {
   "cell_type": "code",
   "execution_count": 11,
   "metadata": {},
   "outputs": [],
   "source": [
    "import warnings"
   ]
  },
  {
   "cell_type": "code",
   "execution_count": 12,
   "metadata": {
    "id": "eyjF-qc3P75Q"
   },
   "outputs": [],
   "source": [
    "from sklearn.model_selection import GridSearchCV\n",
    "from sklearn.svm import LinearSVC\n",
    "\n",
    "estimator = LinearSVC()\n",
    "param_grid = {'C': [0.5, 1.0, 2.0, 5.0, 10.0, 50.0, 100.0]}\n",
    "grid_search = GridSearchCV(estimator, param_grid, scoring=auc_scorer)"
   ]
  },
  {
   "cell_type": "code",
   "execution_count": 13,
   "metadata": {},
   "outputs": [],
   "source": [
    "warnings.filterwarnings('ignore')\n",
    "grid_search.fit(X_train, y_train)\n",
    "warnings.filterwarnings('default')"
   ]
  },
  {
   "cell_type": "code",
   "execution_count": 14,
   "metadata": {},
   "outputs": [
    {
     "data": {
      "text/html": [
       "<div>\n",
       "<style scoped>\n",
       "    .dataframe tbody tr th:only-of-type {\n",
       "        vertical-align: middle;\n",
       "    }\n",
       "\n",
       "    .dataframe tbody tr th {\n",
       "        vertical-align: top;\n",
       "    }\n",
       "\n",
       "    .dataframe thead th {\n",
       "        text-align: right;\n",
       "    }\n",
       "</style>\n",
       "<table border=\"1\" class=\"dataframe\">\n",
       "  <thead>\n",
       "    <tr style=\"text-align: right;\">\n",
       "      <th></th>\n",
       "      <th>mean_fit_time</th>\n",
       "      <th>std_fit_time</th>\n",
       "      <th>mean_score_time</th>\n",
       "      <th>std_score_time</th>\n",
       "      <th>param_C</th>\n",
       "      <th>params</th>\n",
       "      <th>split0_test_score</th>\n",
       "      <th>split1_test_score</th>\n",
       "      <th>split2_test_score</th>\n",
       "      <th>split3_test_score</th>\n",
       "      <th>split4_test_score</th>\n",
       "      <th>mean_test_score</th>\n",
       "      <th>std_test_score</th>\n",
       "      <th>rank_test_score</th>\n",
       "    </tr>\n",
       "  </thead>\n",
       "  <tbody>\n",
       "    <tr>\n",
       "      <th>0</th>\n",
       "      <td>0.477828</td>\n",
       "      <td>0.054073</td>\n",
       "      <td>0.003522</td>\n",
       "      <td>0.006076</td>\n",
       "      <td>0.5</td>\n",
       "      <td>{'C': 0.5}</td>\n",
       "      <td>0.835801</td>\n",
       "      <td>0.823967</td>\n",
       "      <td>0.839663</td>\n",
       "      <td>0.834654</td>\n",
       "      <td>0.831737</td>\n",
       "      <td>0.833164</td>\n",
       "      <td>0.005254</td>\n",
       "      <td>2</td>\n",
       "    </tr>\n",
       "    <tr>\n",
       "      <th>1</th>\n",
       "      <td>0.470252</td>\n",
       "      <td>0.026361</td>\n",
       "      <td>0.006248</td>\n",
       "      <td>0.007652</td>\n",
       "      <td>1.0</td>\n",
       "      <td>{'C': 1.0}</td>\n",
       "      <td>0.835801</td>\n",
       "      <td>0.823967</td>\n",
       "      <td>0.839663</td>\n",
       "      <td>0.834654</td>\n",
       "      <td>0.831737</td>\n",
       "      <td>0.833164</td>\n",
       "      <td>0.005254</td>\n",
       "      <td>2</td>\n",
       "    </tr>\n",
       "    <tr>\n",
       "      <th>2</th>\n",
       "      <td>0.466166</td>\n",
       "      <td>0.012890</td>\n",
       "      <td>0.002354</td>\n",
       "      <td>0.001179</td>\n",
       "      <td>2.0</td>\n",
       "      <td>{'C': 2.0}</td>\n",
       "      <td>0.835801</td>\n",
       "      <td>0.827784</td>\n",
       "      <td>0.840194</td>\n",
       "      <td>0.835696</td>\n",
       "      <td>0.832107</td>\n",
       "      <td>0.834316</td>\n",
       "      <td>0.004152</td>\n",
       "      <td>1</td>\n",
       "    </tr>\n",
       "    <tr>\n",
       "      <th>3</th>\n",
       "      <td>0.490392</td>\n",
       "      <td>0.020364</td>\n",
       "      <td>0.000598</td>\n",
       "      <td>0.001195</td>\n",
       "      <td>5.0</td>\n",
       "      <td>{'C': 5.0}</td>\n",
       "      <td>0.835630</td>\n",
       "      <td>0.829120</td>\n",
       "      <td>0.837577</td>\n",
       "      <td>0.831515</td>\n",
       "      <td>0.830693</td>\n",
       "      <td>0.832907</td>\n",
       "      <td>0.003175</td>\n",
       "      <td>4</td>\n",
       "    </tr>\n",
       "    <tr>\n",
       "      <th>4</th>\n",
       "      <td>0.477747</td>\n",
       "      <td>0.029948</td>\n",
       "      <td>0.003313</td>\n",
       "      <td>0.006627</td>\n",
       "      <td>10.0</td>\n",
       "      <td>{'C': 10.0}</td>\n",
       "      <td>0.823985</td>\n",
       "      <td>0.827258</td>\n",
       "      <td>0.837547</td>\n",
       "      <td>0.838293</td>\n",
       "      <td>0.828807</td>\n",
       "      <td>0.831178</td>\n",
       "      <td>0.005726</td>\n",
       "      <td>5</td>\n",
       "    </tr>\n",
       "    <tr>\n",
       "      <th>5</th>\n",
       "      <td>0.452573</td>\n",
       "      <td>0.004279</td>\n",
       "      <td>0.006943</td>\n",
       "      <td>0.007719</td>\n",
       "      <td>50.0</td>\n",
       "      <td>{'C': 50.0}</td>\n",
       "      <td>0.807908</td>\n",
       "      <td>0.818985</td>\n",
       "      <td>0.835671</td>\n",
       "      <td>0.813390</td>\n",
       "      <td>0.776024</td>\n",
       "      <td>0.810396</td>\n",
       "      <td>0.019541</td>\n",
       "      <td>6</td>\n",
       "    </tr>\n",
       "    <tr>\n",
       "      <th>6</th>\n",
       "      <td>0.468009</td>\n",
       "      <td>0.017074</td>\n",
       "      <td>0.002143</td>\n",
       "      <td>0.001335</td>\n",
       "      <td>100.0</td>\n",
       "      <td>{'C': 100.0}</td>\n",
       "      <td>0.824655</td>\n",
       "      <td>0.694749</td>\n",
       "      <td>0.759935</td>\n",
       "      <td>0.801507</td>\n",
       "      <td>0.811560</td>\n",
       "      <td>0.778481</td>\n",
       "      <td>0.047141</td>\n",
       "      <td>7</td>\n",
       "    </tr>\n",
       "  </tbody>\n",
       "</table>\n",
       "</div>"
      ],
      "text/plain": [
       "   mean_fit_time  std_fit_time  mean_score_time  std_score_time param_C  \\\n",
       "0       0.477828      0.054073         0.003522        0.006076     0.5   \n",
       "1       0.470252      0.026361         0.006248        0.007652     1.0   \n",
       "2       0.466166      0.012890         0.002354        0.001179     2.0   \n",
       "3       0.490392      0.020364         0.000598        0.001195     5.0   \n",
       "4       0.477747      0.029948         0.003313        0.006627    10.0   \n",
       "5       0.452573      0.004279         0.006943        0.007719    50.0   \n",
       "6       0.468009      0.017074         0.002143        0.001335   100.0   \n",
       "\n",
       "         params  split0_test_score  split1_test_score  split2_test_score  \\\n",
       "0    {'C': 0.5}           0.835801           0.823967           0.839663   \n",
       "1    {'C': 1.0}           0.835801           0.823967           0.839663   \n",
       "2    {'C': 2.0}           0.835801           0.827784           0.840194   \n",
       "3    {'C': 5.0}           0.835630           0.829120           0.837577   \n",
       "4   {'C': 10.0}           0.823985           0.827258           0.837547   \n",
       "5   {'C': 50.0}           0.807908           0.818985           0.835671   \n",
       "6  {'C': 100.0}           0.824655           0.694749           0.759935   \n",
       "\n",
       "   split3_test_score  split4_test_score  mean_test_score  std_test_score  \\\n",
       "0           0.834654           0.831737         0.833164        0.005254   \n",
       "1           0.834654           0.831737         0.833164        0.005254   \n",
       "2           0.835696           0.832107         0.834316        0.004152   \n",
       "3           0.831515           0.830693         0.832907        0.003175   \n",
       "4           0.838293           0.828807         0.831178        0.005726   \n",
       "5           0.813390           0.776024         0.810396        0.019541   \n",
       "6           0.801507           0.811560         0.778481        0.047141   \n",
       "\n",
       "   rank_test_score  \n",
       "0                2  \n",
       "1                2  \n",
       "2                1  \n",
       "3                4  \n",
       "4                5  \n",
       "5                6  \n",
       "6                7  "
      ]
     },
     "execution_count": 14,
     "metadata": {},
     "output_type": "execute_result"
    }
   ],
   "source": [
    "df = pd.DataFrame(grid_search.cv_results_)\n",
    "df"
   ]
  },
  {
   "cell_type": "code",
   "execution_count": 15,
   "metadata": {},
   "outputs": [
    {
     "data": {
      "text/plain": [
       "0.8343163222212489"
      ]
     },
     "execution_count": 15,
     "metadata": {},
     "output_type": "execute_result"
    }
   ],
   "source": [
    "grid_search.best_score_"
   ]
  },
  {
   "cell_type": "code",
   "execution_count": 16,
   "metadata": {},
   "outputs": [
    {
     "data": {
      "text/plain": [
       "{'C': 2.0}"
      ]
     },
     "execution_count": 16,
     "metadata": {},
     "output_type": "execute_result"
    }
   ],
   "source": [
    "grid_search.best_params_"
   ]
  },
  {
   "cell_type": "code",
   "execution_count": 17,
   "metadata": {},
   "outputs": [
    {
     "data": {
      "text/plain": [
       "make_scorer(auc_score)"
      ]
     },
     "execution_count": 17,
     "metadata": {},
     "output_type": "execute_result"
    }
   ],
   "source": [
    "grid_search.scorer_"
   ]
  },
  {
   "cell_type": "markdown",
   "metadata": {
    "id": "fapa63xlP75R"
   },
   "source": [
    "  На тестовой части:\n",
    "  - постройте ROC и PR кривые,\n",
    "  - посчитайте AUC-ROC, AUC-PR с точностью до 5 знаков"
   ]
  },
  {
   "cell_type": "code",
   "execution_count": 18,
   "metadata": {
    "id": "xTvNT5uRP75S"
   },
   "outputs": [
    {
     "name": "stdout",
     "output_type": "stream",
     "text": [
      "AUC-PR: 0.83187\n",
      "AUC-ROC: 0.77233\n"
     ]
    },
    {
     "data": {
      "image/png": "[encoded data removed]",
      "text/plain": [
       "<Figure size 1100x500 with 2 Axes>"
      ]
     },
     "metadata": {},
     "output_type": "display_data"
    }
   ],
   "source": [
    "fig, ax = plt.subplots(1, 2, figsize=(11, 5))\n",
    "\n",
    "y_pred = grid_search.predict(X_test)\n",
    "\n",
    "PrecisionRecallDisplay.from_predictions(y_test, y_pred, ax=ax[0])\n",
    "precision, recall, _ = precision_recall_curve(y_test, y_pred)\n",
    "print('AUC-PR: %.5f' % auc(recall, precision))\n",
    "ax[0].set_title(\"PRC for Random Classifier\")\n",
    "ax[0].set_ylim(0, 1.1)\n",
    "\n",
    "RocCurveDisplay.from_predictions(y_test, y_pred, ax=ax[1])\n",
    "print('AUC-ROC: %.5f' % roc_auc_score(y_test, y_pred))\n",
    "ax[1].set_title(\"ROC for Random Classifier\")\n",
    "ax[1].set_ylim(0, 1.1)\n",
    "\n",
    "plt.tight_layout()"
   ]
  },
  {
   "cell_type": "markdown",
   "metadata": {
    "id": "tEoGp5EDtIzW"
   },
   "source": [
    "Сравните AUC-ROC и AUC-PR для вашей модели с этими же метриками для случайного классификатора."
   ]
  },
  {
   "cell_type": "code",
   "execution_count": 19,
   "metadata": {},
   "outputs": [
    {
     "data": {
      "text/html": [
       "<div>\n",
       "<style scoped>\n",
       "    .dataframe tbody tr th:only-of-type {\n",
       "        vertical-align: middle;\n",
       "    }\n",
       "\n",
       "    .dataframe tbody tr th {\n",
       "        vertical-align: top;\n",
       "    }\n",
       "\n",
       "    .dataframe thead th {\n",
       "        text-align: right;\n",
       "    }\n",
       "</style>\n",
       "<table border=\"1\" class=\"dataframe\">\n",
       "  <thead>\n",
       "    <tr style=\"text-align: right;\">\n",
       "      <th></th>\n",
       "      <th>AUC_PR</th>\n",
       "      <th>AUC_ROC</th>\n",
       "      <th>reg_const</th>\n",
       "    </tr>\n",
       "  </thead>\n",
       "  <tbody>\n",
       "    <tr>\n",
       "      <th>Random Classifier</th>\n",
       "      <td>0.633402</td>\n",
       "      <td>0.503944</td>\n",
       "      <td>NaN</td>\n",
       "    </tr>\n",
       "    <tr>\n",
       "      <th>LinearSVC</th>\n",
       "      <td>0.831868</td>\n",
       "      <td>0.772331</td>\n",
       "      <td>NaN</td>\n",
       "    </tr>\n",
       "  </tbody>\n",
       "</table>\n",
       "</div>"
      ],
      "text/plain": [
       "                     AUC_PR   AUC_ROC  reg_const\n",
       "Random Classifier  0.633402  0.503944        NaN\n",
       "LinearSVC          0.831868  0.772331        NaN"
      ]
     },
     "execution_count": 19,
     "metadata": {},
     "output_type": "execute_result"
    }
   ],
   "source": [
    "df_metrics.loc['LinearSVC'] = [\n",
    "    auc(recall, precision),\n",
    "    roc_auc_score(y_test, y_pred),\n",
    "    None\n",
    "]\n",
    "df_metrics"
   ]
  },
  {
   "cell_type": "markdown",
   "metadata": {
    "id": "Ln5VaZE_P75S"
   },
   "source": [
    "__Logistic Regression__\n",
    "\n",
    "Теперь повторите то же самое для логистической регрессии (LR) — обучение, подбор параметра регуляризации (используйте L2-регуляризацию), вычисление метрик и построение кривых ROC и PR."
   ]
  },
  {
   "cell_type": "code",
   "execution_count": 20,
   "metadata": {
    "id": "r1TlamoBP75S"
   },
   "outputs": [
    {
     "data": {
      "text/html": [
       "<div>\n",
       "<style scoped>\n",
       "    .dataframe tbody tr th:only-of-type {\n",
       "        vertical-align: middle;\n",
       "    }\n",
       "\n",
       "    .dataframe tbody tr th {\n",
       "        vertical-align: top;\n",
       "    }\n",
       "\n",
       "    .dataframe thead th {\n",
       "        text-align: right;\n",
       "    }\n",
       "</style>\n",
       "<table border=\"1\" class=\"dataframe\">\n",
       "  <thead>\n",
       "    <tr style=\"text-align: right;\">\n",
       "      <th></th>\n",
       "      <th>mean_fit_time</th>\n",
       "      <th>std_fit_time</th>\n",
       "      <th>mean_score_time</th>\n",
       "      <th>std_score_time</th>\n",
       "      <th>param_C</th>\n",
       "      <th>params</th>\n",
       "      <th>split0_test_score</th>\n",
       "      <th>split1_test_score</th>\n",
       "      <th>split2_test_score</th>\n",
       "      <th>split3_test_score</th>\n",
       "      <th>split4_test_score</th>\n",
       "      <th>mean_test_score</th>\n",
       "      <th>std_test_score</th>\n",
       "      <th>rank_test_score</th>\n",
       "    </tr>\n",
       "  </thead>\n",
       "  <tbody>\n",
       "    <tr>\n",
       "      <th>0</th>\n",
       "      <td>0.055084</td>\n",
       "      <td>0.073408</td>\n",
       "      <td>0.002194</td>\n",
       "      <td>0.000400</td>\n",
       "      <td>0.0001</td>\n",
       "      <td>{'C': 0.0001}</td>\n",
       "      <td>0.819935</td>\n",
       "      <td>0.813239</td>\n",
       "      <td>0.826566</td>\n",
       "      <td>0.825198</td>\n",
       "      <td>0.821638</td>\n",
       "      <td>0.821315</td>\n",
       "      <td>0.004688</td>\n",
       "      <td>30</td>\n",
       "    </tr>\n",
       "    <tr>\n",
       "      <th>1</th>\n",
       "      <td>0.018991</td>\n",
       "      <td>0.002635</td>\n",
       "      <td>0.002926</td>\n",
       "      <td>0.000645</td>\n",
       "      <td>0.034579</td>\n",
       "      <td>{'C': 0.03457931034482759}</td>\n",
       "      <td>0.835347</td>\n",
       "      <td>0.825025</td>\n",
       "      <td>0.841260</td>\n",
       "      <td>0.834654</td>\n",
       "      <td>0.831737</td>\n",
       "      <td>0.833605</td>\n",
       "      <td>0.005288</td>\n",
       "      <td>29</td>\n",
       "    </tr>\n",
       "    <tr>\n",
       "      <th>2</th>\n",
       "      <td>0.017120</td>\n",
       "      <td>0.002282</td>\n",
       "      <td>0.004266</td>\n",
       "      <td>0.003511</td>\n",
       "      <td>0.069059</td>\n",
       "      <td>{'C': 0.06905862068965518}</td>\n",
       "      <td>0.835347</td>\n",
       "      <td>0.825025</td>\n",
       "      <td>0.841260</td>\n",
       "      <td>0.834654</td>\n",
       "      <td>0.832259</td>\n",
       "      <td>0.833709</td>\n",
       "      <td>0.005256</td>\n",
       "      <td>28</td>\n",
       "    </tr>\n",
       "    <tr>\n",
       "      <th>3</th>\n",
       "      <td>0.019614</td>\n",
       "      <td>0.001728</td>\n",
       "      <td>0.002997</td>\n",
       "      <td>0.000631</td>\n",
       "      <td>0.103538</td>\n",
       "      <td>{'C': 0.10353793103448276}</td>\n",
       "      <td>0.835865</td>\n",
       "      <td>0.825025</td>\n",
       "      <td>0.841260</td>\n",
       "      <td>0.834654</td>\n",
       "      <td>0.832259</td>\n",
       "      <td>0.833812</td>\n",
       "      <td>0.005292</td>\n",
       "      <td>1</td>\n",
       "    </tr>\n",
       "    <tr>\n",
       "      <th>4</th>\n",
       "      <td>0.016595</td>\n",
       "      <td>0.005728</td>\n",
       "      <td>0.001802</td>\n",
       "      <td>0.000979</td>\n",
       "      <td>0.138017</td>\n",
       "      <td>{'C': 0.13801724137931035}</td>\n",
       "      <td>0.835865</td>\n",
       "      <td>0.825025</td>\n",
       "      <td>0.841260</td>\n",
       "      <td>0.834654</td>\n",
       "      <td>0.832259</td>\n",
       "      <td>0.833812</td>\n",
       "      <td>0.005292</td>\n",
       "      <td>1</td>\n",
       "    </tr>\n",
       "    <tr>\n",
       "      <th>5</th>\n",
       "      <td>0.016086</td>\n",
       "      <td>0.005526</td>\n",
       "      <td>0.005447</td>\n",
       "      <td>0.005887</td>\n",
       "      <td>0.172497</td>\n",
       "      <td>{'C': 0.17249655172413794}</td>\n",
       "      <td>0.835865</td>\n",
       "      <td>0.825025</td>\n",
       "      <td>0.841260</td>\n",
       "      <td>0.834654</td>\n",
       "      <td>0.832259</td>\n",
       "      <td>0.833812</td>\n",
       "      <td>0.005292</td>\n",
       "      <td>1</td>\n",
       "    </tr>\n",
       "    <tr>\n",
       "      <th>6</th>\n",
       "      <td>0.019478</td>\n",
       "      <td>0.001913</td>\n",
       "      <td>0.002548</td>\n",
       "      <td>0.000685</td>\n",
       "      <td>0.206976</td>\n",
       "      <td>{'C': 0.2069758620689655}</td>\n",
       "      <td>0.835865</td>\n",
       "      <td>0.825025</td>\n",
       "      <td>0.841260</td>\n",
       "      <td>0.834654</td>\n",
       "      <td>0.832259</td>\n",
       "      <td>0.833812</td>\n",
       "      <td>0.005292</td>\n",
       "      <td>1</td>\n",
       "    </tr>\n",
       "    <tr>\n",
       "      <th>7</th>\n",
       "      <td>0.028592</td>\n",
       "      <td>0.019127</td>\n",
       "      <td>0.002799</td>\n",
       "      <td>0.000748</td>\n",
       "      <td>0.241455</td>\n",
       "      <td>{'C': 0.2414551724137931}</td>\n",
       "      <td>0.835865</td>\n",
       "      <td>0.825025</td>\n",
       "      <td>0.841260</td>\n",
       "      <td>0.834654</td>\n",
       "      <td>0.832259</td>\n",
       "      <td>0.833812</td>\n",
       "      <td>0.005292</td>\n",
       "      <td>1</td>\n",
       "    </tr>\n",
       "    <tr>\n",
       "      <th>8</th>\n",
       "      <td>0.025586</td>\n",
       "      <td>0.008581</td>\n",
       "      <td>0.002738</td>\n",
       "      <td>0.001463</td>\n",
       "      <td>0.275934</td>\n",
       "      <td>{'C': 0.2759344827586207}</td>\n",
       "      <td>0.835865</td>\n",
       "      <td>0.825025</td>\n",
       "      <td>0.841260</td>\n",
       "      <td>0.834654</td>\n",
       "      <td>0.832259</td>\n",
       "      <td>0.833812</td>\n",
       "      <td>0.005292</td>\n",
       "      <td>1</td>\n",
       "    </tr>\n",
       "    <tr>\n",
       "      <th>9</th>\n",
       "      <td>0.018214</td>\n",
       "      <td>0.001617</td>\n",
       "      <td>0.002131</td>\n",
       "      <td>0.000254</td>\n",
       "      <td>0.310414</td>\n",
       "      <td>{'C': 0.3104137931034483}</td>\n",
       "      <td>0.835865</td>\n",
       "      <td>0.825025</td>\n",
       "      <td>0.841260</td>\n",
       "      <td>0.834654</td>\n",
       "      <td>0.832259</td>\n",
       "      <td>0.833812</td>\n",
       "      <td>0.005292</td>\n",
       "      <td>1</td>\n",
       "    </tr>\n",
       "    <tr>\n",
       "      <th>10</th>\n",
       "      <td>0.018763</td>\n",
       "      <td>0.006050</td>\n",
       "      <td>0.002523</td>\n",
       "      <td>0.001545</td>\n",
       "      <td>0.344893</td>\n",
       "      <td>{'C': 0.3448931034482759}</td>\n",
       "      <td>0.835865</td>\n",
       "      <td>0.825025</td>\n",
       "      <td>0.841260</td>\n",
       "      <td>0.834654</td>\n",
       "      <td>0.832259</td>\n",
       "      <td>0.833812</td>\n",
       "      <td>0.005292</td>\n",
       "      <td>1</td>\n",
       "    </tr>\n",
       "    <tr>\n",
       "      <th>11</th>\n",
       "      <td>0.018229</td>\n",
       "      <td>0.001589</td>\n",
       "      <td>0.002594</td>\n",
       "      <td>0.000487</td>\n",
       "      <td>0.379372</td>\n",
       "      <td>{'C': 0.3793724137931035}</td>\n",
       "      <td>0.835865</td>\n",
       "      <td>0.825025</td>\n",
       "      <td>0.841260</td>\n",
       "      <td>0.834654</td>\n",
       "      <td>0.832259</td>\n",
       "      <td>0.833812</td>\n",
       "      <td>0.005292</td>\n",
       "      <td>1</td>\n",
       "    </tr>\n",
       "    <tr>\n",
       "      <th>12</th>\n",
       "      <td>0.025457</td>\n",
       "      <td>0.008130</td>\n",
       "      <td>0.000406</td>\n",
       "      <td>0.000811</td>\n",
       "      <td>0.413852</td>\n",
       "      <td>{'C': 0.41385172413793103}</td>\n",
       "      <td>0.835865</td>\n",
       "      <td>0.825025</td>\n",
       "      <td>0.841260</td>\n",
       "      <td>0.834654</td>\n",
       "      <td>0.832259</td>\n",
       "      <td>0.833812</td>\n",
       "      <td>0.005292</td>\n",
       "      <td>1</td>\n",
       "    </tr>\n",
       "    <tr>\n",
       "      <th>13</th>\n",
       "      <td>0.027004</td>\n",
       "      <td>0.006565</td>\n",
       "      <td>0.003205</td>\n",
       "      <td>0.000728</td>\n",
       "      <td>0.448331</td>\n",
       "      <td>{'C': 0.44833103448275863}</td>\n",
       "      <td>0.835865</td>\n",
       "      <td>0.825025</td>\n",
       "      <td>0.841260</td>\n",
       "      <td>0.834654</td>\n",
       "      <td>0.832259</td>\n",
       "      <td>0.833812</td>\n",
       "      <td>0.005292</td>\n",
       "      <td>1</td>\n",
       "    </tr>\n",
       "    <tr>\n",
       "      <th>14</th>\n",
       "      <td>0.018349</td>\n",
       "      <td>0.009562</td>\n",
       "      <td>0.001197</td>\n",
       "      <td>0.000977</td>\n",
       "      <td>0.48281</td>\n",
       "      <td>{'C': 0.4828103448275862}</td>\n",
       "      <td>0.835865</td>\n",
       "      <td>0.825025</td>\n",
       "      <td>0.841260</td>\n",
       "      <td>0.834654</td>\n",
       "      <td>0.832259</td>\n",
       "      <td>0.833812</td>\n",
       "      <td>0.005292</td>\n",
       "      <td>1</td>\n",
       "    </tr>\n",
       "    <tr>\n",
       "      <th>15</th>\n",
       "      <td>0.019206</td>\n",
       "      <td>0.001551</td>\n",
       "      <td>0.002705</td>\n",
       "      <td>0.000585</td>\n",
       "      <td>0.51729</td>\n",
       "      <td>{'C': 0.5172896551724139}</td>\n",
       "      <td>0.835865</td>\n",
       "      <td>0.825025</td>\n",
       "      <td>0.841260</td>\n",
       "      <td>0.834654</td>\n",
       "      <td>0.832259</td>\n",
       "      <td>0.833812</td>\n",
       "      <td>0.005292</td>\n",
       "      <td>1</td>\n",
       "    </tr>\n",
       "    <tr>\n",
       "      <th>16</th>\n",
       "      <td>0.017778</td>\n",
       "      <td>0.003718</td>\n",
       "      <td>0.001593</td>\n",
       "      <td>0.000796</td>\n",
       "      <td>0.551769</td>\n",
       "      <td>{'C': 0.5517689655172414}</td>\n",
       "      <td>0.835865</td>\n",
       "      <td>0.825025</td>\n",
       "      <td>0.841260</td>\n",
       "      <td>0.834654</td>\n",
       "      <td>0.832259</td>\n",
       "      <td>0.833812</td>\n",
       "      <td>0.005292</td>\n",
       "      <td>1</td>\n",
       "    </tr>\n",
       "    <tr>\n",
       "      <th>17</th>\n",
       "      <td>0.021934</td>\n",
       "      <td>0.011031</td>\n",
       "      <td>0.004662</td>\n",
       "      <td>0.006046</td>\n",
       "      <td>0.586248</td>\n",
       "      <td>{'C': 0.586248275862069}</td>\n",
       "      <td>0.835865</td>\n",
       "      <td>0.825025</td>\n",
       "      <td>0.841260</td>\n",
       "      <td>0.834654</td>\n",
       "      <td>0.832259</td>\n",
       "      <td>0.833812</td>\n",
       "      <td>0.005292</td>\n",
       "      <td>1</td>\n",
       "    </tr>\n",
       "    <tr>\n",
       "      <th>18</th>\n",
       "      <td>0.015049</td>\n",
       "      <td>0.004039</td>\n",
       "      <td>0.004360</td>\n",
       "      <td>0.004430</td>\n",
       "      <td>0.620728</td>\n",
       "      <td>{'C': 0.6207275862068966}</td>\n",
       "      <td>0.835865</td>\n",
       "      <td>0.825025</td>\n",
       "      <td>0.841260</td>\n",
       "      <td>0.834654</td>\n",
       "      <td>0.832259</td>\n",
       "      <td>0.833812</td>\n",
       "      <td>0.005292</td>\n",
       "      <td>1</td>\n",
       "    </tr>\n",
       "    <tr>\n",
       "      <th>19</th>\n",
       "      <td>0.018179</td>\n",
       "      <td>0.000615</td>\n",
       "      <td>0.002318</td>\n",
       "      <td>0.000498</td>\n",
       "      <td>0.655207</td>\n",
       "      <td>{'C': 0.6552068965517241}</td>\n",
       "      <td>0.835865</td>\n",
       "      <td>0.825025</td>\n",
       "      <td>0.841260</td>\n",
       "      <td>0.834654</td>\n",
       "      <td>0.832259</td>\n",
       "      <td>0.833812</td>\n",
       "      <td>0.005292</td>\n",
       "      <td>1</td>\n",
       "    </tr>\n",
       "    <tr>\n",
       "      <th>20</th>\n",
       "      <td>0.019258</td>\n",
       "      <td>0.007499</td>\n",
       "      <td>0.000399</td>\n",
       "      <td>0.000798</td>\n",
       "      <td>0.689686</td>\n",
       "      <td>{'C': 0.6896862068965518}</td>\n",
       "      <td>0.835865</td>\n",
       "      <td>0.825025</td>\n",
       "      <td>0.841260</td>\n",
       "      <td>0.834654</td>\n",
       "      <td>0.832259</td>\n",
       "      <td>0.833812</td>\n",
       "      <td>0.005292</td>\n",
       "      <td>1</td>\n",
       "    </tr>\n",
       "    <tr>\n",
       "      <th>21</th>\n",
       "      <td>0.023127</td>\n",
       "      <td>0.007705</td>\n",
       "      <td>0.000998</td>\n",
       "      <td>0.001262</td>\n",
       "      <td>0.724166</td>\n",
       "      <td>{'C': 0.7241655172413793}</td>\n",
       "      <td>0.835865</td>\n",
       "      <td>0.825025</td>\n",
       "      <td>0.841260</td>\n",
       "      <td>0.834654</td>\n",
       "      <td>0.832259</td>\n",
       "      <td>0.833812</td>\n",
       "      <td>0.005292</td>\n",
       "      <td>1</td>\n",
       "    </tr>\n",
       "    <tr>\n",
       "      <th>22</th>\n",
       "      <td>0.020504</td>\n",
       "      <td>0.002551</td>\n",
       "      <td>0.002388</td>\n",
       "      <td>0.000493</td>\n",
       "      <td>0.758645</td>\n",
       "      <td>{'C': 0.758644827586207}</td>\n",
       "      <td>0.835865</td>\n",
       "      <td>0.825025</td>\n",
       "      <td>0.841260</td>\n",
       "      <td>0.834654</td>\n",
       "      <td>0.832259</td>\n",
       "      <td>0.833812</td>\n",
       "      <td>0.005292</td>\n",
       "      <td>1</td>\n",
       "    </tr>\n",
       "    <tr>\n",
       "      <th>23</th>\n",
       "      <td>0.019739</td>\n",
       "      <td>0.002755</td>\n",
       "      <td>0.002021</td>\n",
       "      <td>0.000014</td>\n",
       "      <td>0.793124</td>\n",
       "      <td>{'C': 0.7931241379310345}</td>\n",
       "      <td>0.835865</td>\n",
       "      <td>0.825025</td>\n",
       "      <td>0.841260</td>\n",
       "      <td>0.834654</td>\n",
       "      <td>0.832259</td>\n",
       "      <td>0.833812</td>\n",
       "      <td>0.005292</td>\n",
       "      <td>1</td>\n",
       "    </tr>\n",
       "    <tr>\n",
       "      <th>24</th>\n",
       "      <td>0.020159</td>\n",
       "      <td>0.002590</td>\n",
       "      <td>0.002531</td>\n",
       "      <td>0.000685</td>\n",
       "      <td>0.827603</td>\n",
       "      <td>{'C': 0.8276034482758621}</td>\n",
       "      <td>0.835865</td>\n",
       "      <td>0.825025</td>\n",
       "      <td>0.841260</td>\n",
       "      <td>0.834654</td>\n",
       "      <td>0.832259</td>\n",
       "      <td>0.833812</td>\n",
       "      <td>0.005292</td>\n",
       "      <td>1</td>\n",
       "    </tr>\n",
       "    <tr>\n",
       "      <th>25</th>\n",
       "      <td>0.019056</td>\n",
       "      <td>0.001598</td>\n",
       "      <td>0.002613</td>\n",
       "      <td>0.000495</td>\n",
       "      <td>0.862083</td>\n",
       "      <td>{'C': 0.8620827586206897}</td>\n",
       "      <td>0.835865</td>\n",
       "      <td>0.825025</td>\n",
       "      <td>0.841260</td>\n",
       "      <td>0.834654</td>\n",
       "      <td>0.832259</td>\n",
       "      <td>0.833812</td>\n",
       "      <td>0.005292</td>\n",
       "      <td>1</td>\n",
       "    </tr>\n",
       "    <tr>\n",
       "      <th>26</th>\n",
       "      <td>0.018275</td>\n",
       "      <td>0.002230</td>\n",
       "      <td>0.002398</td>\n",
       "      <td>0.000483</td>\n",
       "      <td>0.896562</td>\n",
       "      <td>{'C': 0.8965620689655173}</td>\n",
       "      <td>0.835865</td>\n",
       "      <td>0.825025</td>\n",
       "      <td>0.841260</td>\n",
       "      <td>0.834654</td>\n",
       "      <td>0.832259</td>\n",
       "      <td>0.833812</td>\n",
       "      <td>0.005292</td>\n",
       "      <td>1</td>\n",
       "    </tr>\n",
       "    <tr>\n",
       "      <th>27</th>\n",
       "      <td>0.020415</td>\n",
       "      <td>0.004373</td>\n",
       "      <td>0.001610</td>\n",
       "      <td>0.001360</td>\n",
       "      <td>0.931041</td>\n",
       "      <td>{'C': 0.9310413793103449}</td>\n",
       "      <td>0.835865</td>\n",
       "      <td>0.825025</td>\n",
       "      <td>0.841260</td>\n",
       "      <td>0.834654</td>\n",
       "      <td>0.832259</td>\n",
       "      <td>0.833812</td>\n",
       "      <td>0.005292</td>\n",
       "      <td>1</td>\n",
       "    </tr>\n",
       "    <tr>\n",
       "      <th>28</th>\n",
       "      <td>0.018312</td>\n",
       "      <td>0.002583</td>\n",
       "      <td>0.002254</td>\n",
       "      <td>0.000551</td>\n",
       "      <td>0.965521</td>\n",
       "      <td>{'C': 0.9655206896551725}</td>\n",
       "      <td>0.835865</td>\n",
       "      <td>0.825025</td>\n",
       "      <td>0.841260</td>\n",
       "      <td>0.834654</td>\n",
       "      <td>0.832259</td>\n",
       "      <td>0.833812</td>\n",
       "      <td>0.005292</td>\n",
       "      <td>1</td>\n",
       "    </tr>\n",
       "    <tr>\n",
       "      <th>29</th>\n",
       "      <td>0.017761</td>\n",
       "      <td>0.002002</td>\n",
       "      <td>0.002340</td>\n",
       "      <td>0.000369</td>\n",
       "      <td>1.0</td>\n",
       "      <td>{'C': 1.0}</td>\n",
       "      <td>0.835865</td>\n",
       "      <td>0.825025</td>\n",
       "      <td>0.841260</td>\n",
       "      <td>0.834654</td>\n",
       "      <td>0.832259</td>\n",
       "      <td>0.833812</td>\n",
       "      <td>0.005292</td>\n",
       "      <td>1</td>\n",
       "    </tr>\n",
       "  </tbody>\n",
       "</table>\n",
       "</div>"
      ],
      "text/plain": [
       "    mean_fit_time  std_fit_time  mean_score_time  std_score_time   param_C  \\\n",
       "0        0.055084      0.073408         0.002194        0.000400    0.0001   \n",
       "1        0.018991      0.002635         0.002926        0.000645  0.034579   \n",
       "2        0.017120      0.002282         0.004266        0.003511  0.069059   \n",
       "3        0.019614      0.001728         0.002997        0.000631  0.103538   \n",
       "4        0.016595      0.005728         0.001802        0.000979  0.138017   \n",
       "5        0.016086      0.005526         0.005447        0.005887  0.172497   \n",
       "6        0.019478      0.001913         0.002548        0.000685  0.206976   \n",
       "7        0.028592      0.019127         0.002799        0.000748  0.241455   \n",
       "8        0.025586      0.008581         0.002738        0.001463  0.275934   \n",
       "9        0.018214      0.001617         0.002131        0.000254  0.310414   \n",
       "10       0.018763      0.006050         0.002523        0.001545  0.344893   \n",
       "11       0.018229      0.001589         0.002594        0.000487  0.379372   \n",
       "12       0.025457      0.008130         0.000406        0.000811  0.413852   \n",
       "13       0.027004      0.006565         0.003205        0.000728  0.448331   \n",
       "14       0.018349      0.009562         0.001197        0.000977   0.48281   \n",
       "15       0.019206      0.001551         0.002705        0.000585   0.51729   \n",
       "16       0.017778      0.003718         0.001593        0.000796  0.551769   \n",
       "17       0.021934      0.011031         0.004662        0.006046  0.586248   \n",
       "18       0.015049      0.004039         0.004360        0.004430  0.620728   \n",
       "19       0.018179      0.000615         0.002318        0.000498  0.655207   \n",
       "20       0.019258      0.007499         0.000399        0.000798  0.689686   \n",
       "21       0.023127      0.007705         0.000998        0.001262  0.724166   \n",
       "22       0.020504      0.002551         0.002388        0.000493  0.758645   \n",
       "23       0.019739      0.002755         0.002021        0.000014  0.793124   \n",
       "24       0.020159      0.002590         0.002531        0.000685  0.827603   \n",
       "25       0.019056      0.001598         0.002613        0.000495  0.862083   \n",
       "26       0.018275      0.002230         0.002398        0.000483  0.896562   \n",
       "27       0.020415      0.004373         0.001610        0.001360  0.931041   \n",
       "28       0.018312      0.002583         0.002254        0.000551  0.965521   \n",
       "29       0.017761      0.002002         0.002340        0.000369       1.0   \n",
       "\n",
       "                        params  split0_test_score  split1_test_score  \\\n",
       "0                {'C': 0.0001}           0.819935           0.813239   \n",
       "1   {'C': 0.03457931034482759}           0.835347           0.825025   \n",
       "2   {'C': 0.06905862068965518}           0.835347           0.825025   \n",
       "3   {'C': 0.10353793103448276}           0.835865           0.825025   \n",
       "4   {'C': 0.13801724137931035}           0.835865           0.825025   \n",
       "5   {'C': 0.17249655172413794}           0.835865           0.825025   \n",
       "6    {'C': 0.2069758620689655}           0.835865           0.825025   \n",
       "7    {'C': 0.2414551724137931}           0.835865           0.825025   \n",
       "8    {'C': 0.2759344827586207}           0.835865           0.825025   \n",
       "9    {'C': 0.3104137931034483}           0.835865           0.825025   \n",
       "10   {'C': 0.3448931034482759}           0.835865           0.825025   \n",
       "11   {'C': 0.3793724137931035}           0.835865           0.825025   \n",
       "12  {'C': 0.41385172413793103}           0.835865           0.825025   \n",
       "13  {'C': 0.44833103448275863}           0.835865           0.825025   \n",
       "14   {'C': 0.4828103448275862}           0.835865           0.825025   \n",
       "15   {'C': 0.5172896551724139}           0.835865           0.825025   \n",
       "16   {'C': 0.5517689655172414}           0.835865           0.825025   \n",
       "17    {'C': 0.586248275862069}           0.835865           0.825025   \n",
       "18   {'C': 0.6207275862068966}           0.835865           0.825025   \n",
       "19   {'C': 0.6552068965517241}           0.835865           0.825025   \n",
       "20   {'C': 0.6896862068965518}           0.835865           0.825025   \n",
       "21   {'C': 0.7241655172413793}           0.835865           0.825025   \n",
       "22    {'C': 0.758644827586207}           0.835865           0.825025   \n",
       "23   {'C': 0.7931241379310345}           0.835865           0.825025   \n",
       "24   {'C': 0.8276034482758621}           0.835865           0.825025   \n",
       "25   {'C': 0.8620827586206897}           0.835865           0.825025   \n",
       "26   {'C': 0.8965620689655173}           0.835865           0.825025   \n",
       "27   {'C': 0.9310413793103449}           0.835865           0.825025   \n",
       "28   {'C': 0.9655206896551725}           0.835865           0.825025   \n",
       "29                  {'C': 1.0}           0.835865           0.825025   \n",
       "\n",
       "    split2_test_score  split3_test_score  split4_test_score  mean_test_score  \\\n",
       "0            0.826566           0.825198           0.821638         0.821315   \n",
       "1            0.841260           0.834654           0.831737         0.833605   \n",
       "2            0.841260           0.834654           0.832259         0.833709   \n",
       "3            0.841260           0.834654           0.832259         0.833812   \n",
       "4            0.841260           0.834654           0.832259         0.833812   \n",
       "5            0.841260           0.834654           0.832259         0.833812   \n",
       "6            0.841260           0.834654           0.832259         0.833812   \n",
       "7            0.841260           0.834654           0.832259         0.833812   \n",
       "8            0.841260           0.834654           0.832259         0.833812   \n",
       "9            0.841260           0.834654           0.832259         0.833812   \n",
       "10           0.841260           0.834654           0.832259         0.833812   \n",
       "11           0.841260           0.834654           0.832259         0.833812   \n",
       "12           0.841260           0.834654           0.832259         0.833812   \n",
       "13           0.841260           0.834654           0.832259         0.833812   \n",
       "14           0.841260           0.834654           0.832259         0.833812   \n",
       "15           0.841260           0.834654           0.832259         0.833812   \n",
       "16           0.841260           0.834654           0.832259         0.833812   \n",
       "17           0.841260           0.834654           0.832259         0.833812   \n",
       "18           0.841260           0.834654           0.832259         0.833812   \n",
       "19           0.841260           0.834654           0.832259         0.833812   \n",
       "20           0.841260           0.834654           0.832259         0.833812   \n",
       "21           0.841260           0.834654           0.832259         0.833812   \n",
       "22           0.841260           0.834654           0.832259         0.833812   \n",
       "23           0.841260           0.834654           0.832259         0.833812   \n",
       "24           0.841260           0.834654           0.832259         0.833812   \n",
       "25           0.841260           0.834654           0.832259         0.833812   \n",
       "26           0.841260           0.834654           0.832259         0.833812   \n",
       "27           0.841260           0.834654           0.832259         0.833812   \n",
       "28           0.841260           0.834654           0.832259         0.833812   \n",
       "29           0.841260           0.834654           0.832259         0.833812   \n",
       "\n",
       "    std_test_score  rank_test_score  \n",
       "0         0.004688               30  \n",
       "1         0.005288               29  \n",
       "2         0.005256               28  \n",
       "3         0.005292                1  \n",
       "4         0.005292                1  \n",
       "5         0.005292                1  \n",
       "6         0.005292                1  \n",
       "7         0.005292                1  \n",
       "8         0.005292                1  \n",
       "9         0.005292                1  \n",
       "10        0.005292                1  \n",
       "11        0.005292                1  \n",
       "12        0.005292                1  \n",
       "13        0.005292                1  \n",
       "14        0.005292                1  \n",
       "15        0.005292                1  \n",
       "16        0.005292                1  \n",
       "17        0.005292                1  \n",
       "18        0.005292                1  \n",
       "19        0.005292                1  \n",
       "20        0.005292                1  \n",
       "21        0.005292                1  \n",
       "22        0.005292                1  \n",
       "23        0.005292                1  \n",
       "24        0.005292                1  \n",
       "25        0.005292                1  \n",
       "26        0.005292                1  \n",
       "27        0.005292                1  \n",
       "28        0.005292                1  \n",
       "29        0.005292                1  "
      ]
     },
     "execution_count": 20,
     "metadata": {},
     "output_type": "execute_result"
    }
   ],
   "source": [
    "from sklearn.linear_model import LogisticRegression\n",
    "\n",
    "estimator = LogisticRegression()\n",
    "param_grid = {'C': np.linspace(0.0001, 1, 30)}\n",
    "grid_search = GridSearchCV(estimator, param_grid, scoring=auc_scorer)\n",
    "\n",
    "grid_search.fit(X_train, y_train)\n",
    "\n",
    "df = pd.DataFrame(grid_search.cv_results_)\n",
    "df"
   ]
  },
  {
   "cell_type": "code",
   "execution_count": 21,
   "metadata": {},
   "outputs": [
    {
     "name": "stdout",
     "output_type": "stream",
     "text": [
      "0.8338124399823584 {'C': 0.10353793103448276}\n"
     ]
    }
   ],
   "source": [
    "print(grid_search.best_score_, grid_search.best_params_)"
   ]
  },
  {
   "cell_type": "code",
   "execution_count": 22,
   "metadata": {},
   "outputs": [
    {
     "name": "stdout",
     "output_type": "stream",
     "text": [
      "AUC-PR: 0.83116\n",
      "AUC-ROC: 0.77134\n"
     ]
    },
    {
     "data": {
      "image/png": "[encoded data removed]",
      "text/plain": [
       "<Figure size 1100x500 with 2 Axes>"
      ]
     },
     "metadata": {},
     "output_type": "display_data"
    }
   ],
   "source": [
    "fig, ax = plt.subplots(1, 2, figsize=(11, 5))\n",
    "\n",
    "y_pred = grid_search.predict(X_test)\n",
    "\n",
    "PrecisionRecallDisplay.from_predictions(y_test, y_pred, ax=ax[0])\n",
    "precision, recall, _ = precision_recall_curve(y_test, y_pred)\n",
    "print('AUC-PR: %.5f' % auc(recall, precision))\n",
    "ax[0].set_title(\"PRC for Random Classifier\")\n",
    "ax[0].set_ylim(0, 1.1)\n",
    "\n",
    "RocCurveDisplay.from_predictions(y_test, y_pred, ax=ax[1])\n",
    "print('AUC-ROC: %.5f' % roc_auc_score(y_test, y_pred))\n",
    "ax[1].set_title(\"ROC for Random Classifier\")\n",
    "ax[1].set_ylim(0, 1.1)\n",
    "\n",
    "plt.tight_layout()"
   ]
  },
  {
   "cell_type": "code",
   "execution_count": 23,
   "metadata": {},
   "outputs": [
    {
     "data": {
      "text/html": [
       "<div>\n",
       "<style scoped>\n",
       "    .dataframe tbody tr th:only-of-type {\n",
       "        vertical-align: middle;\n",
       "    }\n",
       "\n",
       "    .dataframe tbody tr th {\n",
       "        vertical-align: top;\n",
       "    }\n",
       "\n",
       "    .dataframe thead th {\n",
       "        text-align: right;\n",
       "    }\n",
       "</style>\n",
       "<table border=\"1\" class=\"dataframe\">\n",
       "  <thead>\n",
       "    <tr style=\"text-align: right;\">\n",
       "      <th></th>\n",
       "      <th>AUC_PR</th>\n",
       "      <th>AUC_ROC</th>\n",
       "      <th>reg_const</th>\n",
       "    </tr>\n",
       "  </thead>\n",
       "  <tbody>\n",
       "    <tr>\n",
       "      <th>Random Classifier</th>\n",
       "      <td>0.633402</td>\n",
       "      <td>0.503944</td>\n",
       "      <td>NaN</td>\n",
       "    </tr>\n",
       "    <tr>\n",
       "      <th>LinearSVC</th>\n",
       "      <td>0.831868</td>\n",
       "      <td>0.772331</td>\n",
       "      <td>NaN</td>\n",
       "    </tr>\n",
       "    <tr>\n",
       "      <th>LogisticRegression</th>\n",
       "      <td>0.831157</td>\n",
       "      <td>0.771342</td>\n",
       "      <td>NaN</td>\n",
       "    </tr>\n",
       "  </tbody>\n",
       "</table>\n",
       "</div>"
      ],
      "text/plain": [
       "                      AUC_PR   AUC_ROC  reg_const\n",
       "Random Classifier   0.633402  0.503944        NaN\n",
       "LinearSVC           0.831868  0.772331        NaN\n",
       "LogisticRegression  0.831157  0.771342        NaN"
      ]
     },
     "execution_count": 23,
     "metadata": {},
     "output_type": "execute_result"
    }
   ],
   "source": [
    "df_metrics.loc['LogisticRegression'] = [\n",
    "    auc(recall, precision),\n",
    "    roc_auc_score(y_test, y_pred),\n",
    "    None\n",
    "]\n",
    "df_metrics"
   ]
  },
  {
   "cell_type": "markdown",
   "metadata": {
    "id": "khlorKXtr1Sy"
   },
   "source": [
    "__Микровывод__\n",
    "\n",
    "  Сравните результаты LR и SVM с точки зрения всех вычисленных критериев качества, объясните различия (если они есть).\n",
    "\n",
    "  Ответ: # your answer here"
   ]
  },
  {
   "cell_type": "markdown",
   "metadata": {
    "id": "RvWzOe4wP75T"
   },
   "source": [
    "#### __Задание 1.2. Визуализация в подходах SVM, LR__ (0.5 балла)\n",
    "\n",
    "В названии метода опорных векторов присутствуют некоторые \"опорные векторы\". По сути, это объекты из обучающей выборки, которые задали положение разделяющей гиперплоскости.\n",
    "\n",
    "1) Сгенерируйте синтетические данные с помощью `make_classification` __с 2 признаками__, обучите на нём метод опорных векторов. В этот раз воспользуйтесь `SVC(kernel='linear')`, так как только в нём есть информация об опорных векторах, а в `LinearSVC` нет.\n",
    "\n",
    "2) Визуализируйте разделяющую прямую, все объекты и выделите опорные векторы (атрибут `support_vectors_`). "
   ]
  },
  {
   "cell_type": "code",
   "execution_count": 24,
   "metadata": {
    "id": "baqu-QMCP75T"
   },
   "outputs": [],
   "source": [
    "X, y = make_classification(\n",
    "    n_samples=10000, n_features=2, n_informative=2, n_redundant=0, random_state=42)"
   ]
  },
  {
   "cell_type": "code",
   "execution_count": 25,
   "metadata": {},
   "outputs": [],
   "source": [
    "from sklearn.svm import SVC\n",
    "\n",
    "clf = SVC(kernel='linear')\n",
    "clf = clf.fit(X, y)"
   ]
  },
  {
   "cell_type": "code",
   "execution_count": 26,
   "metadata": {},
   "outputs": [
    {
     "data": {
      "text/plain": [
       "<sklearn.inspection._plot.decision_boundary.DecisionBoundaryDisplay at 0x1cc9eaca5b0>"
      ]
     },
     "execution_count": 26,
     "metadata": {},
     "output_type": "execute_result"
    },
    {
     "data": {
      "image/png": "[encoded data removed]",
      "text/plain": [
       "<Figure size 640x480 with 1 Axes>"
      ]
     },
     "metadata": {},
     "output_type": "display_data"
    }
   ],
   "source": [
    "\n",
    "from sklearn.inspection import DecisionBoundaryDisplay\n",
    "\n",
    "plt.scatter(X[:, 0], X[:, 1], c=y, s=15, cmap=plt.cm.Paired)\n",
    "ax = plt.gca()\n",
    "DecisionBoundaryDisplay.from_estimator(\n",
    "    clf,\n",
    "    X,\n",
    "    plot_method=\"contour\",\n",
    "    colors=\"k\",\n",
    "    levels=[-1, 0, 1],\n",
    "    alpha=0.5,\n",
    "    linestyles=[\"--\", \"-\", \"--\"],\n",
    "    ax=ax,\n",
    ")\n",
    "\n",
    "# ax.scatter(\n",
    "#     clf.support_vectors_[:, 0],\n",
    "#     clf.support_vectors_[:, 1],\n",
    "#     s=100,\n",
    "#     linewidth=1,\n",
    "#     facecolors=\"none\",\n",
    "#     edgecolors=\"k\",\n",
    "# )"
   ]
  },
  {
   "cell_type": "markdown",
   "metadata": {
    "id": "gfpVN70PP75U"
   },
   "source": [
    "В отличие от метода опорных векторов, логистическая регрессия не пытается построить разделяющую гиперплоскость с максимальным отступом, а приближает в каждой точке пространства объектов вероятность положительных ответов $p(y=+1|x)$. Попробуйте нарисовать это распределение на плоскости, не забудьте отметить на ней все объекты. Вам может помочь функция `plt.pcolor` ([matplotlib demo](https://matplotlib.org/3.1.1/gallery/images_contours_and_fields/pcolor_demo.html#sphx-glr-gallery-images-contours-and-fields-pcolor-demo-py))."
   ]
  },
  {
   "cell_type": "code",
   "execution_count": 27,
   "metadata": {},
   "outputs": [],
   "source": [
    "clf = LogisticRegression()\n",
    "clf = clf.fit(X, y)"
   ]
  },
  {
   "cell_type": "code",
   "execution_count": 28,
   "metadata": {},
   "outputs": [
    {
     "name": "stderr",
     "output_type": "stream",
     "text": [
      "a:\\repos\\ml-course-hse\\.venv\\lib\\site-packages\\sklearn\\inspection\\_plot\\decision_boundary.py:186: UserWarning: The following kwargs were not used by contour: 'class_of_interest'\n",
      "  self.surface_ = plot_func(self.xx0, self.xx1, self.response, **kwargs)\n",
      "a:\\repos\\ml-course-hse\\.venv\\lib\\site-packages\\sklearn\\inspection\\_plot\\decision_boundary.py:186: UserWarning: The following kwargs were not used by contour: 'class_of_interest'\n",
      "  self.surface_ = plot_func(self.xx0, self.xx1, self.response, **kwargs)\n"
     ]
    },
    {
     "data": {
      "image/png": "[encoded data removed]",
      "text/plain": [
       "<Figure size 640x480 with 2 Axes>"
      ]
     },
     "metadata": {},
     "output_type": "display_data"
    }
   ],
   "source": [
    "fig, axes = plt.subplots(\n",
    "    nrows=1,\n",
    "    ncols=len(np.unique(y)),\n",
    ")\n",
    "\n",
    "y_pred = clf.predict(X)\n",
    "for label in np.unique(y):\n",
    "    disp = DecisionBoundaryDisplay.from_estimator(\n",
    "        clf,\n",
    "        X,\n",
    "        response_method=\"predict_proba\",\n",
    "        class_of_interest=label,\n",
    "        ax=axes[label],\n",
    "        vmin=0,\n",
    "        vmax=1,\n",
    "    )\n",
    "    axes[label].set_title(f\"Class {label}\")\n",
    "    mask_y_pred = y_pred == label\n",
    "    axes[label].scatter(\n",
    "        X[mask_y_pred, 0], X[mask_y_pred, 1], marker=\"o\", c=\"w\", edgecolor=\"k\"\n",
    "    )\n",
    "    axes[label].set(xticks=(), yticks=())"
   ]
  },
  {
   "cell_type": "markdown",
   "metadata": {
    "id": "4VbJR0e3P75U"
   },
   "source": [
    "#### __Задание 2. Калибровка вероятностей__ (1 балл)\n",
    "\n",
    "Перейдём к оценке качества выдаваемых алгоритмами вероятностей. Начнём с калибровочных кривых. \n",
    "\n",
    "Допустим, алгоритм возвращает некоторые числа от нуля до единицы. Хорошо ли они оценивают вероятность? Для этого разобьем отрезок $[0, 1]$ на несколько маленьких отрезков одинаковой длины.\n",
    "\n",
    "Рассмотрим $i$-й отрезок с границами $[a_i, b_i]$ и предсказания $p_1, p_2, \\dots, p_k$, которые попали в него. Пусть им соответствуют истинные ответы $y_1, y_2, \\dots, y_k$. Если алгоритм выдает корректные вероятности, то среди этих истинных ответов должно быть примерно $(a_i + b_i) / 2$ единиц. Иными словами, если нарисовать кривую, у которой по оси X отложены центры отрезков, а по оси Y — доли единичных ответов этих в отрезках, то она должна оказаться диагональной.\n",
    "\n",
    "Ниже приведена функция, которая должна рисовать такие кривые. В ней допущено две ошибки — найдите и исправьте их."
   ]
  },
  {
   "cell_type": "code",
   "execution_count": 29,
   "metadata": {
    "id": "R75uefZuP75V"
   },
   "outputs": [],
   "source": [
    "def plot_calibration_curve(y_test, preds, color, label):\n",
    "    bin_middle_points = []\n",
    "    bin_real_ratios = []\n",
    "    n_bins = 10\n",
    "    for i in range(n_bins):\n",
    "        l = 1.0 / n_bins * i\n",
    "        r = 1.0 / n_bins * (i + 1)\n",
    "        bin_middle_points.append((l + r) / 2)\n",
    "        bin_real_ratios.append((np.sum(y_test[(preds > l) & (preds <= r)] == 1)) / (y_test[(preds > l) & (preds <= r)].size))\n",
    "    plt.figure(figsize=(6,6))\n",
    "    plt.plot(bin_middle_points, bin_real_ratios, color=color, label=label)\n",
    "    plt.ylim([-0.05, 1.05])\n",
    "    plt.grid()"
   ]
  },
  {
   "cell_type": "markdown",
   "metadata": {
    "id": "AvYjnnxSP75V"
   },
   "source": [
    "Сгенерируйте синтетические данные аналогично использованным в самом первом задании. Постройте калибровочные кривые на тестовой части для логистической регрессии и метода опорных векторов (не забудьте перевести его предсказания в $[0;1]$)."
   ]
  },
  {
   "cell_type": "code",
   "execution_count": 30,
   "metadata": {
    "id": "ZTBMyfx4P75W"
   },
   "outputs": [],
   "source": [
    "X, y = make_classification(\n",
    "    n_samples=10000, n_features=10, n_informative=5, n_redundant=5, random_state=42)\n",
    "\n",
    "X_train, X_test, y_train, y_test = train_test_split(X, y, test_size=0.3, random_state=42)"
   ]
  },
  {
   "cell_type": "code",
   "execution_count": 31,
   "metadata": {},
   "outputs": [],
   "source": [
    "from sklearn.calibration import calibration_curve"
   ]
  },
  {
   "cell_type": "code",
   "execution_count": 32,
   "metadata": {},
   "outputs": [
    {
     "data": {
      "text/plain": [
       "<matplotlib.legend.Legend at 0x1cc9ed58f40>"
      ]
     },
     "execution_count": 32,
     "metadata": {},
     "output_type": "execute_result"
    },
    {
     "data": {
      "image/png": "[encoded data removed]",
      "text/plain": [
       "<Figure size 600x600 with 1 Axes>"
      ]
     },
     "metadata": {},
     "output_type": "display_data"
    }
   ],
   "source": [
    "lr = LogisticRegression()\n",
    "lr = lr.fit(X_train, y_train)\n",
    "lr_pred = lr.predict_proba(X_test)[:, 1]\n",
    "\n",
    "plot_calibration_curve(y_test, lr_pred, 'blue', 'my_LR')\n",
    "\n",
    "lr_true_prob, lr_pred_prob = calibration_curve(y_test, lr_pred, n_bins=10)\n",
    "plt.plot(lr_pred_prob, lr_true_prob, label='sklearn_LR', color='orange')\n",
    "\n",
    "plt.plot([0, 1], [0, 1], label='Perfect', linestyle='--', color='green')\n",
    "plt.legend()"
   ]
  },
  {
   "cell_type": "code",
   "execution_count": 33,
   "metadata": {},
   "outputs": [
    {
     "name": "stderr",
     "output_type": "stream",
     "text": [
      "a:\\repos\\ml-course-hse\\.venv\\lib\\site-packages\\sklearn\\svm\\_classes.py:32: FutureWarning: The default value of `dual` will change from `True` to `'auto'` in 1.5. Set the value of `dual` explicitly to suppress the warning.\n",
      "  warnings.warn(\n",
      "a:\\repos\\ml-course-hse\\.venv\\lib\\site-packages\\sklearn\\svm\\_base.py:1250: ConvergenceWarning: Liblinear failed to converge, increase the number of iterations.\n",
      "  warnings.warn(\n"
     ]
    },
    {
     "data": {
      "text/plain": [
       "<matplotlib.legend.Legend at 0x1cc9edf54f0>"
      ]
     },
     "execution_count": 33,
     "metadata": {},
     "output_type": "execute_result"
    },
    {
     "data": {
      "image/png": "[encoded data removed]",
      "text/plain": [
       "<Figure size 600x600 with 1 Axes>"
      ]
     },
     "metadata": {},
     "output_type": "display_data"
    }
   ],
   "source": [
    "svc = LinearSVC()\n",
    "svc = svc.fit(X_train, y_train)\n",
    "svc_pred = svc.decision_function(X_test)\n",
    "svc_pred = (svc_pred - svc_pred.min()) / (svc_pred.max() - svc_pred.min())\n",
    "\n",
    "plot_calibration_curve(y_test, svc_pred, 'blue', 'my_SVC')\n",
    "\n",
    "svc_true_prob, svc_pred_prob = calibration_curve(y_test, svc_pred, n_bins=10)\n",
    "plt.plot(svc_true_prob, svc_pred_prob, label='sklearn_SVC', color='orange')\n",
    "\n",
    "plt.plot([0, 1], [0, 1], label='Perfect', linestyle='--', color='green')\n",
    "plt.legend()"
   ]
  },
  {
   "cell_type": "markdown",
   "metadata": {
    "id": "8zwmGLkyIBxU"
   },
   "source": [
    "Изучите распределение ответов классификаторов (постройте гистограммы с помощью `plt.hist`)."
   ]
  },
  {
   "cell_type": "code",
   "execution_count": 34,
   "metadata": {
    "id": "IaDLxkpxIDVV"
   },
   "outputs": [
    {
     "data": {
      "image/png": "[encoded data removed]",
      "text/plain": [
       "<Figure size 1400x700 with 2 Axes>"
      ]
     },
     "metadata": {},
     "output_type": "display_data"
    }
   ],
   "source": [
    "fig, axs = plt.subplots(1, 2, figsize=(14, 7))\n",
    "\n",
    "axs[0].hist(svc.decision_function(X_test), bins=20, color='blue', density='True')\n",
    "axs[1].hist(lr.decision_function(X_test), bins=20, color='orange', density='True')\n",
    "\n",
    "axs[0].set_title('SVC')\n",
    "axs[1].set_title('Logistic regression')\n",
    "\n",
    "plt.suptitle('Outputs distribution')\n",
    "plt.show()"
   ]
  },
  {
   "cell_type": "markdown",
   "metadata": {
    "id": "KH3u2pVNEYmJ"
   },
   "source": [
    "\n",
    "Чем они различаются? Чем вы можете объяснить это?\n",
    "\n",
    "Ответ: # your answer here"
   ]
  },
  {
   "cell_type": "markdown",
   "metadata": {
    "id": "M9-6ClfaP75W"
   },
   "source": [
    "Воспользуйтесь `CalibratedClassifierCV` из `sklearn` для калибровки вероятностей метода опорных векторов на обучении и постройте с его помощью предсказания для тестовой выборки. Нарисуйте для них калибровочную кривую. Улучшилась ли она?"
   ]
  },
  {
   "cell_type": "code",
   "execution_count": 35,
   "metadata": {},
   "outputs": [
    {
     "name": "stderr",
     "output_type": "stream",
     "text": [
      "a:\\repos\\ml-course-hse\\.venv\\lib\\site-packages\\sklearn\\calibration.py:300: FutureWarning: `base_estimator` was renamed to `estimator` in version 1.2 and will be removed in 1.4.\n",
      "  warnings.warn(\n",
      "a:\\repos\\ml-course-hse\\.venv\\lib\\site-packages\\sklearn\\svm\\_classes.py:32: FutureWarning: The default value of `dual` will change from `True` to `'auto'` in 1.5. Set the value of `dual` explicitly to suppress the warning.\n",
      "  warnings.warn(\n",
      "a:\\repos\\ml-course-hse\\.venv\\lib\\site-packages\\sklearn\\svm\\_base.py:1250: ConvergenceWarning: Liblinear failed to converge, increase the number of iterations.\n",
      "  warnings.warn(\n",
      "a:\\repos\\ml-course-hse\\.venv\\lib\\site-packages\\sklearn\\svm\\_classes.py:32: FutureWarning: The default value of `dual` will change from `True` to `'auto'` in 1.5. Set the value of `dual` explicitly to suppress the warning.\n",
      "  warnings.warn(\n",
      "a:\\repos\\ml-course-hse\\.venv\\lib\\site-packages\\sklearn\\svm\\_base.py:1250: ConvergenceWarning: Liblinear failed to converge, increase the number of iterations.\n",
      "  warnings.warn(\n",
      "a:\\repos\\ml-course-hse\\.venv\\lib\\site-packages\\sklearn\\svm\\_classes.py:32: FutureWarning: The default value of `dual` will change from `True` to `'auto'` in 1.5. Set the value of `dual` explicitly to suppress the warning.\n",
      "  warnings.warn(\n",
      "a:\\repos\\ml-course-hse\\.venv\\lib\\site-packages\\sklearn\\svm\\_base.py:1250: ConvergenceWarning: Liblinear failed to converge, increase the number of iterations.\n",
      "  warnings.warn(\n",
      "a:\\repos\\ml-course-hse\\.venv\\lib\\site-packages\\sklearn\\svm\\_classes.py:32: FutureWarning: The default value of `dual` will change from `True` to `'auto'` in 1.5. Set the value of `dual` explicitly to suppress the warning.\n",
      "  warnings.warn(\n",
      "a:\\repos\\ml-course-hse\\.venv\\lib\\site-packages\\sklearn\\svm\\_base.py:1250: ConvergenceWarning: Liblinear failed to converge, increase the number of iterations.\n",
      "  warnings.warn(\n",
      "a:\\repos\\ml-course-hse\\.venv\\lib\\site-packages\\sklearn\\svm\\_classes.py:32: FutureWarning: The default value of `dual` will change from `True` to `'auto'` in 1.5. Set the value of `dual` explicitly to suppress the warning.\n",
      "  warnings.warn(\n",
      "a:\\repos\\ml-course-hse\\.venv\\lib\\site-packages\\sklearn\\svm\\_base.py:1250: ConvergenceWarning: Liblinear failed to converge, increase the number of iterations.\n",
      "  warnings.warn(\n"
     ]
    },
    {
     "data": {
      "image/png": "[encoded data removed]",
      "text/plain": [
       "<Figure size 700x700 with 1 Axes>"
      ]
     },
     "metadata": {},
     "output_type": "display_data"
    }
   ],
   "source": [
    "from sklearn.calibration import CalibratedClassifierCV\n",
    "\n",
    "calibrated_svc = CalibratedClassifierCV(base_estimator=svc)\n",
    "calibrated_svc.fit(X_train, y_train)\n",
    "\n",
    "plt.figure(figsize=(7, 7))\n",
    "\n",
    "svc_pred_prob_c, svc_true_prob_c = calibration_curve(y_test, calibrated_svc.predict_proba(X_test)[:, 1])\n",
    "\n",
    "plt.plot(svc_pred_prob_c, svc_true_prob_c, label='SVC', color='blue')\n",
    "plt.plot(lr_pred_prob, lr_true_prob, label='LR', color='orange')\n",
    "plt.plot([0, 1], [0, 1], label='Perfect', linestyle='--', color='green')\n",
    "\n",
    "plt.xlabel('Mean predicted probability')\n",
    "plt.ylabel('Fraction of positives')\n",
    "plt.title('Calibration curves')\n",
    "plt.legend()\n",
    "plt.show()"
   ]
  },
  {
   "cell_type": "markdown",
   "metadata": {
    "id": "p2dpbXgoP75X"
   },
   "source": [
    "##### __Бонус: Авторское решение__ (0.5 балла)\n",
    "\n",
    "Реализуйте свою функцию для калибровки вероятностей, используя любой из известных подходов. Кратко опишите ваш подход и продемонстрируйте результаты. Ключевые слова для вдохновения: `Platt`, `Isotonic`."
   ]
  },
  {
   "cell_type": "code",
   "execution_count": 36,
   "metadata": {
    "id": "R8mtQgBJP75X"
   },
   "outputs": [],
   "source": [
    "#your code here"
   ]
  },
  {
   "cell_type": "markdown",
   "metadata": {
    "id": "FaOVU4vJP75X"
   },
   "source": [
    "# Часть 2. Обработка категориальных переменных"
   ]
  },
  {
   "cell_type": "markdown",
   "metadata": {
    "id": "8KQ9ywUEP75X"
   },
   "source": [
    "Как мы знаем, перекодировать категориальную переменную в список чисел (к примеру 1, 2, 3, ..., n) плохо, поскольку это бы задало на множестве ее значений некоторый порядок, не имеющий смысла. \n",
    "\n",
    "В этой части мы рассмотрим два основных способа обработки категориальных значений:\n",
    "- One-hot-кодирование\n",
    "- Счётчики (CTR, mean-target кодирование, ...) — каждый категориальный признак заменяется на среднее значение целевой переменной по всем объектам, имеющим одинаковое значение в этом признаке.\n",
    "\n",
    "Начнём с one-hot-кодирования. Допустим наш категориальный признак $f_j(x)$ принимает значения из множества $C=\\{c_1, \\dots, c_m\\}$. Заменим его на $m$ бинарных признаков $b_1(x), \\dots, b_m(x)$, каждый из которых является индикатором одного из возможных категориальных значений:\n",
    "$$\n",
    "b_i(x) = [f_j(x) = c_i]\n",
    "$$"
   ]
  },
  {
   "cell_type": "markdown",
   "metadata": {
    "id": "pPsScraBP75Y"
   },
   "source": [
    "#### __Подготовка данных__\n",
    "\n",
    "(бесценный шаг)\n",
    "\n",
    "Загрузим данные [UCI Adult Dataset](https://archive.ics.uci.edu/ml/datasets/Adult). Этот набор данных содержит информацию о годовых доходах отдельных людей. В качестве признакового описания используется различная информация о человеке (образование, профессия, брачный статус и т.д.). Целевая переменная является бинарной: больше ли годовой доход 50K долларов или нет. "
   ]
  },
  {
   "cell_type": "code",
   "execution_count": 91,
   "metadata": {
    "id": "KqM6MJHCWRAg"
   },
   "outputs": [
    {
     "data": {
      "text/plain": [
       "'adult.data'"
      ]
     },
     "execution_count": 91,
     "metadata": {},
     "output_type": "execute_result"
    }
   ],
   "source": [
    "import wget\n",
    "url = 'https://archive.ics.uci.edu/ml/machine-learning-databases/adult/adult.data'\n",
    "filename = wget.download(url)\n",
    "filename"
   ]
  },
  {
   "cell_type": "code",
   "execution_count": 37,
   "metadata": {
    "id": "U7l7U7xTWO8l"
   },
   "outputs": [],
   "source": [
    "columns = ['age', 'workclass', 'fnlwgt', 'education', \n",
    "           'education-num', 'marital-status', 'occupation',\n",
    "           'relationship', 'race', 'sex', 'capital-gain', \n",
    "           'capital-loss', 'hours-per-week', 'native-country',\n",
    "           'income']\n",
    "\n",
    "df = pd.read_csv('adult.data', header=None, names=columns)\n",
    "df['income'] = (df['income'] != \" <=50K\").astype('int32')"
   ]
  },
  {
   "cell_type": "code",
   "execution_count": 38,
   "metadata": {
    "id": "zvNOSMmf32Q8"
   },
   "outputs": [
    {
     "data": {
      "text/html": [
       "<div>\n",
       "<style scoped>\n",
       "    .dataframe tbody tr th:only-of-type {\n",
       "        vertical-align: middle;\n",
       "    }\n",
       "\n",
       "    .dataframe tbody tr th {\n",
       "        vertical-align: top;\n",
       "    }\n",
       "\n",
       "    .dataframe thead th {\n",
       "        text-align: right;\n",
       "    }\n",
       "</style>\n",
       "<table border=\"1\" class=\"dataframe\">\n",
       "  <thead>\n",
       "    <tr style=\"text-align: right;\">\n",
       "      <th></th>\n",
       "      <th>age</th>\n",
       "      <th>workclass</th>\n",
       "      <th>fnlwgt</th>\n",
       "      <th>education</th>\n",
       "      <th>education-num</th>\n",
       "      <th>marital-status</th>\n",
       "      <th>occupation</th>\n",
       "      <th>relationship</th>\n",
       "      <th>race</th>\n",
       "      <th>sex</th>\n",
       "      <th>capital-gain</th>\n",
       "      <th>capital-loss</th>\n",
       "      <th>hours-per-week</th>\n",
       "      <th>native-country</th>\n",
       "      <th>income</th>\n",
       "    </tr>\n",
       "  </thead>\n",
       "  <tbody>\n",
       "    <tr>\n",
       "      <th>0</th>\n",
       "      <td>39</td>\n",
       "      <td>State-gov</td>\n",
       "      <td>77516</td>\n",
       "      <td>Bachelors</td>\n",
       "      <td>13</td>\n",
       "      <td>Never-married</td>\n",
       "      <td>Adm-clerical</td>\n",
       "      <td>Not-in-family</td>\n",
       "      <td>White</td>\n",
       "      <td>Male</td>\n",
       "      <td>2174</td>\n",
       "      <td>0</td>\n",
       "      <td>40</td>\n",
       "      <td>United-States</td>\n",
       "      <td>0</td>\n",
       "    </tr>\n",
       "    <tr>\n",
       "      <th>1</th>\n",
       "      <td>50</td>\n",
       "      <td>Self-emp-not-inc</td>\n",
       "      <td>83311</td>\n",
       "      <td>Bachelors</td>\n",
       "      <td>13</td>\n",
       "      <td>Married-civ-spouse</td>\n",
       "      <td>Exec-managerial</td>\n",
       "      <td>Husband</td>\n",
       "      <td>White</td>\n",
       "      <td>Male</td>\n",
       "      <td>0</td>\n",
       "      <td>0</td>\n",
       "      <td>13</td>\n",
       "      <td>United-States</td>\n",
       "      <td>0</td>\n",
       "    </tr>\n",
       "    <tr>\n",
       "      <th>2</th>\n",
       "      <td>38</td>\n",
       "      <td>Private</td>\n",
       "      <td>215646</td>\n",
       "      <td>HS-grad</td>\n",
       "      <td>9</td>\n",
       "      <td>Divorced</td>\n",
       "      <td>Handlers-cleaners</td>\n",
       "      <td>Not-in-family</td>\n",
       "      <td>White</td>\n",
       "      <td>Male</td>\n",
       "      <td>0</td>\n",
       "      <td>0</td>\n",
       "      <td>40</td>\n",
       "      <td>United-States</td>\n",
       "      <td>0</td>\n",
       "    </tr>\n",
       "    <tr>\n",
       "      <th>3</th>\n",
       "      <td>53</td>\n",
       "      <td>Private</td>\n",
       "      <td>234721</td>\n",
       "      <td>11th</td>\n",
       "      <td>7</td>\n",
       "      <td>Married-civ-spouse</td>\n",
       "      <td>Handlers-cleaners</td>\n",
       "      <td>Husband</td>\n",
       "      <td>Black</td>\n",
       "      <td>Male</td>\n",
       "      <td>0</td>\n",
       "      <td>0</td>\n",
       "      <td>40</td>\n",
       "      <td>United-States</td>\n",
       "      <td>0</td>\n",
       "    </tr>\n",
       "    <tr>\n",
       "      <th>4</th>\n",
       "      <td>28</td>\n",
       "      <td>Private</td>\n",
       "      <td>338409</td>\n",
       "      <td>Bachelors</td>\n",
       "      <td>13</td>\n",
       "      <td>Married-civ-spouse</td>\n",
       "      <td>Prof-specialty</td>\n",
       "      <td>Wife</td>\n",
       "      <td>Black</td>\n",
       "      <td>Female</td>\n",
       "      <td>0</td>\n",
       "      <td>0</td>\n",
       "      <td>40</td>\n",
       "      <td>Cuba</td>\n",
       "      <td>0</td>\n",
       "    </tr>\n",
       "  </tbody>\n",
       "</table>\n",
       "</div>"
      ],
      "text/plain": [
       "   age          workclass  fnlwgt   education  education-num  \\\n",
       "0   39          State-gov   77516   Bachelors             13   \n",
       "1   50   Self-emp-not-inc   83311   Bachelors             13   \n",
       "2   38            Private  215646     HS-grad              9   \n",
       "3   53            Private  234721        11th              7   \n",
       "4   28            Private  338409   Bachelors             13   \n",
       "\n",
       "        marital-status          occupation    relationship    race      sex  \\\n",
       "0        Never-married        Adm-clerical   Not-in-family   White     Male   \n",
       "1   Married-civ-spouse     Exec-managerial         Husband   White     Male   \n",
       "2             Divorced   Handlers-cleaners   Not-in-family   White     Male   \n",
       "3   Married-civ-spouse   Handlers-cleaners         Husband   Black     Male   \n",
       "4   Married-civ-spouse      Prof-specialty            Wife   Black   Female   \n",
       "\n",
       "   capital-gain  capital-loss  hours-per-week  native-country  income  \n",
       "0          2174             0              40   United-States       0  \n",
       "1             0             0              13   United-States       0  \n",
       "2             0             0              40   United-States       0  \n",
       "3             0             0              40   United-States       0  \n",
       "4             0             0              40            Cuba       0  "
      ]
     },
     "execution_count": 38,
     "metadata": {},
     "output_type": "execute_result"
    }
   ],
   "source": [
    "df.head()"
   ]
  },
  {
   "cell_type": "markdown",
   "metadata": {
    "id": "VaiObso6IEfd"
   },
   "source": [
    "Разделите выборку на обучающую и тестовую в соотношении 3:1. Зафиксируйте `random_state=777`, также используйте `stratify`. "
   ]
  },
  {
   "cell_type": "code",
   "execution_count": 39,
   "metadata": {
    "id": "QIYErZMnP75Z"
   },
   "outputs": [],
   "source": [
    "X = df.drop(columns=['income'])\n",
    "y = df['income']\n",
    "X_train, X_test, y_train, y_test = train_test_split(X, y, test_size=0.25, random_state=777, stratify=y)"
   ]
  },
  {
   "cell_type": "code",
   "execution_count": 42,
   "metadata": {},
   "outputs": [
    {
     "data": {
      "text/html": [
       "<div>\n",
       "<style scoped>\n",
       "    .dataframe tbody tr th:only-of-type {\n",
       "        vertical-align: middle;\n",
       "    }\n",
       "\n",
       "    .dataframe tbody tr th {\n",
       "        vertical-align: top;\n",
       "    }\n",
       "\n",
       "    .dataframe thead th {\n",
       "        text-align: right;\n",
       "    }\n",
       "</style>\n",
       "<table border=\"1\" class=\"dataframe\">\n",
       "  <thead>\n",
       "    <tr style=\"text-align: right;\">\n",
       "      <th></th>\n",
       "      <th>age</th>\n",
       "      <th>workclass</th>\n",
       "      <th>fnlwgt</th>\n",
       "      <th>education</th>\n",
       "      <th>education-num</th>\n",
       "      <th>marital-status</th>\n",
       "      <th>occupation</th>\n",
       "      <th>relationship</th>\n",
       "      <th>race</th>\n",
       "      <th>sex</th>\n",
       "      <th>capital-gain</th>\n",
       "      <th>capital-loss</th>\n",
       "      <th>hours-per-week</th>\n",
       "      <th>native-country</th>\n",
       "    </tr>\n",
       "  </thead>\n",
       "  <tbody>\n",
       "    <tr>\n",
       "      <th>14004</th>\n",
       "      <td>60</td>\n",
       "      <td>State-gov</td>\n",
       "      <td>194252</td>\n",
       "      <td>Masters</td>\n",
       "      <td>14</td>\n",
       "      <td>Married-civ-spouse</td>\n",
       "      <td>Exec-managerial</td>\n",
       "      <td>Wife</td>\n",
       "      <td>White</td>\n",
       "      <td>Female</td>\n",
       "      <td>3103</td>\n",
       "      <td>0</td>\n",
       "      <td>40</td>\n",
       "      <td>United-States</td>\n",
       "    </tr>\n",
       "    <tr>\n",
       "      <th>21060</th>\n",
       "      <td>41</td>\n",
       "      <td>Local-gov</td>\n",
       "      <td>26669</td>\n",
       "      <td>Some-college</td>\n",
       "      <td>10</td>\n",
       "      <td>Divorced</td>\n",
       "      <td>Exec-managerial</td>\n",
       "      <td>Not-in-family</td>\n",
       "      <td>White</td>\n",
       "      <td>Female</td>\n",
       "      <td>0</td>\n",
       "      <td>0</td>\n",
       "      <td>40</td>\n",
       "      <td>United-States</td>\n",
       "    </tr>\n",
       "    <tr>\n",
       "      <th>7926</th>\n",
       "      <td>18</td>\n",
       "      <td>Private</td>\n",
       "      <td>165754</td>\n",
       "      <td>Some-college</td>\n",
       "      <td>10</td>\n",
       "      <td>Never-married</td>\n",
       "      <td>Other-service</td>\n",
       "      <td>Own-child</td>\n",
       "      <td>White</td>\n",
       "      <td>Female</td>\n",
       "      <td>0</td>\n",
       "      <td>0</td>\n",
       "      <td>30</td>\n",
       "      <td>United-States</td>\n",
       "    </tr>\n",
       "  </tbody>\n",
       "</table>\n",
       "</div>"
      ],
      "text/plain": [
       "       age   workclass  fnlwgt      education  education-num  \\\n",
       "14004   60   State-gov  194252        Masters             14   \n",
       "21060   41   Local-gov   26669   Some-college             10   \n",
       "7926    18     Private  165754   Some-college             10   \n",
       "\n",
       "            marital-status        occupation    relationship    race      sex  \\\n",
       "14004   Married-civ-spouse   Exec-managerial            Wife   White   Female   \n",
       "21060             Divorced   Exec-managerial   Not-in-family   White   Female   \n",
       "7926         Never-married     Other-service       Own-child   White   Female   \n",
       "\n",
       "       capital-gain  capital-loss  hours-per-week  native-country  \n",
       "14004          3103             0              40   United-States  \n",
       "21060             0             0              40   United-States  \n",
       "7926              0             0              30   United-States  "
      ]
     },
     "execution_count": 42,
     "metadata": {},
     "output_type": "execute_result"
    }
   ],
   "source": [
    "X_train.head(3)"
   ]
  },
  {
   "cell_type": "code",
   "execution_count": 43,
   "metadata": {},
   "outputs": [
    {
     "data": {
      "text/plain": [
       "14004    1\n",
       "21060    0\n",
       "7926     0\n",
       "Name: income, dtype: int32"
      ]
     },
     "execution_count": 43,
     "metadata": {},
     "output_type": "execute_result"
    }
   ],
   "source": [
    "y_train.head(3)"
   ]
  },
  {
   "cell_type": "markdown",
   "metadata": {
    "id": "m5LjHkuCP75Z"
   },
   "source": [
    "#### __Задание 3. OrdinalEncoder__  (0.5 балла)\n",
    "\n",
    "Закодируйте категориальные признаки с помощью `OrdinalEncoder`, а числовые признаки нормализуйте с помощью `StandardScaler`. Посчитайте качество (в этом задании будем работать c __`AUC-PR`__) при применении логистической регрессии. Замерьте время, потребовавшееся на обучение модели, с учетом кодирования признаков."
   ]
  },
  {
   "cell_type": "code",
   "execution_count": 45,
   "metadata": {
    "id": "bdZT2tXXP75a"
   },
   "outputs": [
    {
     "data": {
      "text/plain": [
       "['workclass',\n",
       " 'education',\n",
       " 'marital-status',\n",
       " 'occupation',\n",
       " 'relationship',\n",
       " 'race',\n",
       " 'sex',\n",
       " 'native-country']"
      ]
     },
     "execution_count": 45,
     "metadata": {},
     "output_type": "execute_result"
    }
   ],
   "source": [
    "categorical = list(X_train.dtypes[X_train.dtypes == \"object\"].index)\n",
    "categorical"
   ]
  },
  {
   "cell_type": "code",
   "execution_count": 47,
   "metadata": {},
   "outputs": [
    {
     "data": {
      "text/plain": [
       "['age',\n",
       " 'fnlwgt',\n",
       " 'education-num',\n",
       " 'capital-gain',\n",
       " 'capital-loss',\n",
       " 'hours-per-week']"
      ]
     },
     "execution_count": 47,
     "metadata": {},
     "output_type": "execute_result"
    }
   ],
   "source": [
    "numeric_features = list(X_train.select_dtypes([np.number]).columns)\n",
    "numeric_features"
   ]
  },
  {
   "cell_type": "code",
   "execution_count": 63,
   "metadata": {},
   "outputs": [],
   "source": [
    "import time\n",
    "from sklearn.preprocessing import OrdinalEncoder, StandardScaler\n",
    "from sklearn.compose import ColumnTransformer\n",
    "from sklearn.pipeline import Pipeline\n",
    "\n",
    "column_transformer = ColumnTransformer([\n",
    "    ('oe', OrdinalEncoder(), categorical),\n",
    "    ('scaling', StandardScaler(), numeric_features)\n",
    "])\n",
    "\n",
    "pipeline = Pipeline(steps=[\n",
    "    ('oe_and_scaling', column_transformer),\n",
    "    ('logistic_regression', LogisticRegression(max_iter=100000))\n",
    "])\n",
    "\n",
    "start = time.time()\n",
    "model = pipeline.fit(X_train, y_train)\n",
    "end = time.time()\n",
    "\n",
    "precision, recall, _ = precision_recall_curve(y_test, model.decision_function(X_test))"
   ]
  },
  {
   "cell_type": "code",
   "execution_count": 64,
   "metadata": {},
   "outputs": [],
   "source": [
    "df = pd.DataFrame(columns=[\"AUC-PR\", \"time_sec\"])\n",
    "df.loc[\"OrdinalEncoder\"] = [auc(recall, precision), end - start]"
   ]
  },
  {
   "cell_type": "code",
   "execution_count": 65,
   "metadata": {},
   "outputs": [
    {
     "data": {
      "text/html": [
       "<div>\n",
       "<style scoped>\n",
       "    .dataframe tbody tr th:only-of-type {\n",
       "        vertical-align: middle;\n",
       "    }\n",
       "\n",
       "    .dataframe tbody tr th {\n",
       "        vertical-align: top;\n",
       "    }\n",
       "\n",
       "    .dataframe thead th {\n",
       "        text-align: right;\n",
       "    }\n",
       "</style>\n",
       "<table border=\"1\" class=\"dataframe\">\n",
       "  <thead>\n",
       "    <tr style=\"text-align: right;\">\n",
       "      <th></th>\n",
       "      <th>AUC-PR</th>\n",
       "      <th>time_sec</th>\n",
       "    </tr>\n",
       "  </thead>\n",
       "  <tbody>\n",
       "    <tr>\n",
       "      <th>OrdinalEncoder</th>\n",
       "      <td>0.682233</td>\n",
       "      <td>0.750488</td>\n",
       "    </tr>\n",
       "  </tbody>\n",
       "</table>\n",
       "</div>"
      ],
      "text/plain": [
       "                  AUC-PR  time_sec\n",
       "OrdinalEncoder  0.682233  0.750488"
      ]
     },
     "execution_count": 65,
     "metadata": {},
     "output_type": "execute_result"
    }
   ],
   "source": [
    "df"
   ]
  },
  {
   "cell_type": "markdown",
   "metadata": {
    "id": "TRXYxCSmP75Z"
   },
   "source": [
    "__Вопрос__: почему в данном задании мы выбрали метрикой именно `AUC-PR`, а не, к примеру, `AUC-ROC`?\n",
    "\n",
    "__Ответ__: # your answer here"
   ]
  },
  {
   "cell_type": "markdown",
   "metadata": {
    "id": "ScIo7NthP75a"
   },
   "source": [
    "#### __Задание 4. One-Hot Encoding__ (0.5 балла)\n",
    "\n"
   ]
  },
  {
   "cell_type": "markdown",
   "metadata": {
    "id": "p3sFuKAtLwOx"
   },
   "source": [
    "Закодируйте все категориальные признаки с помощью one-hot-кодирования. Обучите логистическую регрессию и посмотрите, как изменилось качество модели (в сравнении с тем, что было до кодирования). Измерьте время, потребовавшееся на кодирование категориальных признаков и обучение модели."
   ]
  },
  {
   "cell_type": "code",
   "execution_count": 66,
   "metadata": {
    "id": "t4PbjLIHP75a"
   },
   "outputs": [
    {
     "data": {
      "text/html": [
       "<div>\n",
       "<style scoped>\n",
       "    .dataframe tbody tr th:only-of-type {\n",
       "        vertical-align: middle;\n",
       "    }\n",
       "\n",
       "    .dataframe tbody tr th {\n",
       "        vertical-align: top;\n",
       "    }\n",
       "\n",
       "    .dataframe thead th {\n",
       "        text-align: right;\n",
       "    }\n",
       "</style>\n",
       "<table border=\"1\" class=\"dataframe\">\n",
       "  <thead>\n",
       "    <tr style=\"text-align: right;\">\n",
       "      <th></th>\n",
       "      <th>AUC-PR</th>\n",
       "      <th>time_sec</th>\n",
       "    </tr>\n",
       "  </thead>\n",
       "  <tbody>\n",
       "    <tr>\n",
       "      <th>OrdinalEncoder</th>\n",
       "      <td>0.682233</td>\n",
       "      <td>0.750488</td>\n",
       "    </tr>\n",
       "    <tr>\n",
       "      <th>OneHotEncoder</th>\n",
       "      <td>0.767133</td>\n",
       "      <td>0.964307</td>\n",
       "    </tr>\n",
       "  </tbody>\n",
       "</table>\n",
       "</div>"
      ],
      "text/plain": [
       "                  AUC-PR  time_sec\n",
       "OrdinalEncoder  0.682233  0.750488\n",
       "OneHotEncoder   0.767133  0.964307"
      ]
     },
     "execution_count": 66,
     "metadata": {},
     "output_type": "execute_result"
    }
   ],
   "source": [
    "from sklearn.preprocessing import OneHotEncoder\n",
    "\n",
    "column_transformer = ColumnTransformer([\n",
    "    ('ohe', OneHotEncoder(handle_unknown=\"ignore\"), categorical),\n",
    "    ('scaling', StandardScaler(), numeric_features)\n",
    "])\n",
    "\n",
    "pipeline = Pipeline(steps=[\n",
    "    ('ohe_and_scaling', column_transformer),\n",
    "    ('logistic_regression', LogisticRegression(max_iter=100000))\n",
    "])\n",
    "\n",
    "start = time.time()\n",
    "model = pipeline.fit(X_train, y_train)\n",
    "end = time.time()\n",
    "\n",
    "precision, recall, _ = precision_recall_curve(y_test, model.decision_function(X_test))\n",
    "\n",
    "df.loc[\"OneHotEncoder\"] = [auc(recall, precision), end - start]\n",
    "df"
   ]
  },
  {
   "cell_type": "markdown",
   "metadata": {
    "id": "9p-qOs6lP75b"
   },
   "source": [
    "Как можно заметить, one-hot-кодирование может сильно увеличивать количество признаков. Это сказывается на объеме необходимой памяти, особенно, если некоторый признак имеет большое количество значений.\n"
   ]
  },
  {
   "cell_type": "markdown",
   "metadata": {
    "id": "l1q3k3yaLF8Y"
   },
   "source": [
    "#### __Задание 5. Mean-target Encoding__ (1 балл)"
   ]
  },
  {
   "cell_type": "markdown",
   "metadata": {
    "id": "tanu5Hm5Lr7R"
   },
   "source": [
    "> Проблемы разрастания числа признаков можно избежать в другом способе кодирования категориальных признаков — mean-target encoding (для простоты будем называть это __счётчиками__). Сравним эффективность методов в рамках нашей маркетинговой задачи.\n",
    "\n",
    "> Основная идея в том, что важны не сами категории, а значения целевой переменной, которые имеют объекты этой категории. Каждый категориальный признак мы заменим средним значением целевой переменной по всем объектам этой же категории:\n",
    "$$\n",
    "g_j(x, X) = \\frac{\\sum_{i=1}^{\\ell} [f_j(x) = f_j(x_i)][y_i = +1]}{\\sum_{i=1}^{\\ell} [f_j(x) = f_j(x_i)]}\n",
    "$$\n",
    "\n",
    "Закодируйте категориальные переменные с помощью счётчиков (ровно так, как описано выше, без каких-либо хитростей). Обучите логистическую регрессию и посмотрите на качество модели на тестовом множестве.\n",
    "\n",
    "Сравните время обучения с предыдущими экспериментами (с учетом кодирования признаков)."
   ]
  },
  {
   "cell_type": "code",
   "execution_count": 92,
   "metadata": {},
   "outputs": [
    {
     "data": {
      "text/html": [
       "<div>\n",
       "<style scoped>\n",
       "    .dataframe tbody tr th:only-of-type {\n",
       "        vertical-align: middle;\n",
       "    }\n",
       "\n",
       "    .dataframe tbody tr th {\n",
       "        vertical-align: top;\n",
       "    }\n",
       "\n",
       "    .dataframe thead th {\n",
       "        text-align: right;\n",
       "    }\n",
       "</style>\n",
       "<table border=\"1\" class=\"dataframe\">\n",
       "  <thead>\n",
       "    <tr style=\"text-align: right;\">\n",
       "      <th></th>\n",
       "      <th>age</th>\n",
       "      <th>workclass</th>\n",
       "      <th>fnlwgt</th>\n",
       "      <th>education</th>\n",
       "      <th>education-num</th>\n",
       "      <th>marital-status</th>\n",
       "      <th>occupation</th>\n",
       "      <th>relationship</th>\n",
       "      <th>race</th>\n",
       "      <th>sex</th>\n",
       "      <th>capital-gain</th>\n",
       "      <th>capital-loss</th>\n",
       "      <th>hours-per-week</th>\n",
       "      <th>native-country</th>\n",
       "      <th>income</th>\n",
       "    </tr>\n",
       "  </thead>\n",
       "  <tbody>\n",
       "    <tr>\n",
       "      <th>14004</th>\n",
       "      <td>60</td>\n",
       "      <td>State-gov</td>\n",
       "      <td>194252</td>\n",
       "      <td>Masters</td>\n",
       "      <td>14</td>\n",
       "      <td>Married-civ-spouse</td>\n",
       "      <td>Exec-managerial</td>\n",
       "      <td>Wife</td>\n",
       "      <td>White</td>\n",
       "      <td>Female</td>\n",
       "      <td>3103</td>\n",
       "      <td>0</td>\n",
       "      <td>40</td>\n",
       "      <td>United-States</td>\n",
       "      <td>1</td>\n",
       "    </tr>\n",
       "    <tr>\n",
       "      <th>21060</th>\n",
       "      <td>41</td>\n",
       "      <td>Local-gov</td>\n",
       "      <td>26669</td>\n",
       "      <td>Some-college</td>\n",
       "      <td>10</td>\n",
       "      <td>Divorced</td>\n",
       "      <td>Exec-managerial</td>\n",
       "      <td>Not-in-family</td>\n",
       "      <td>White</td>\n",
       "      <td>Female</td>\n",
       "      <td>0</td>\n",
       "      <td>0</td>\n",
       "      <td>40</td>\n",
       "      <td>United-States</td>\n",
       "      <td>0</td>\n",
       "    </tr>\n",
       "  </tbody>\n",
       "</table>\n",
       "</div>"
      ],
      "text/plain": [
       "       age   workclass  fnlwgt      education  education-num  \\\n",
       "14004   60   State-gov  194252        Masters             14   \n",
       "21060   41   Local-gov   26669   Some-college             10   \n",
       "\n",
       "            marital-status        occupation    relationship    race      sex  \\\n",
       "14004   Married-civ-spouse   Exec-managerial            Wife   White   Female   \n",
       "21060             Divorced   Exec-managerial   Not-in-family   White   Female   \n",
       "\n",
       "       capital-gain  capital-loss  hours-per-week  native-country  income  \n",
       "14004          3103             0              40   United-States       1  \n",
       "21060             0             0              40   United-States       0  "
      ]
     },
     "execution_count": 92,
     "metadata": {},
     "output_type": "execute_result"
    }
   ],
   "source": [
    "train = X_train.copy()\n",
    "train[\"income\"] = y_train\n",
    "train.head(2)"
   ]
  },
  {
   "cell_type": "code",
   "execution_count": 93,
   "metadata": {},
   "outputs": [
    {
     "data": {
      "text/html": [
       "<div>\n",
       "<style scoped>\n",
       "    .dataframe tbody tr th:only-of-type {\n",
       "        vertical-align: middle;\n",
       "    }\n",
       "\n",
       "    .dataframe tbody tr th {\n",
       "        vertical-align: top;\n",
       "    }\n",
       "\n",
       "    .dataframe thead th {\n",
       "        text-align: right;\n",
       "    }\n",
       "</style>\n",
       "<table border=\"1\" class=\"dataframe\">\n",
       "  <thead>\n",
       "    <tr style=\"text-align: right;\">\n",
       "      <th></th>\n",
       "      <th>age</th>\n",
       "      <th>workclass</th>\n",
       "      <th>fnlwgt</th>\n",
       "      <th>education</th>\n",
       "      <th>education-num</th>\n",
       "      <th>marital-status</th>\n",
       "      <th>occupation</th>\n",
       "      <th>relationship</th>\n",
       "      <th>race</th>\n",
       "      <th>sex</th>\n",
       "      <th>capital-gain</th>\n",
       "      <th>capital-loss</th>\n",
       "      <th>hours-per-week</th>\n",
       "      <th>native-country</th>\n",
       "      <th>income</th>\n",
       "    </tr>\n",
       "  </thead>\n",
       "  <tbody>\n",
       "    <tr>\n",
       "      <th>7725</th>\n",
       "      <td>53</td>\n",
       "      <td>Private</td>\n",
       "      <td>30447</td>\n",
       "      <td>HS-grad</td>\n",
       "      <td>9</td>\n",
       "      <td>Divorced</td>\n",
       "      <td>Machine-op-inspct</td>\n",
       "      <td>Not-in-family</td>\n",
       "      <td>White</td>\n",
       "      <td>Male</td>\n",
       "      <td>0</td>\n",
       "      <td>0</td>\n",
       "      <td>50</td>\n",
       "      <td>United-States</td>\n",
       "      <td>0</td>\n",
       "    </tr>\n",
       "    <tr>\n",
       "      <th>695</th>\n",
       "      <td>25</td>\n",
       "      <td>?</td>\n",
       "      <td>202480</td>\n",
       "      <td>Assoc-acdm</td>\n",
       "      <td>12</td>\n",
       "      <td>Never-married</td>\n",
       "      <td>?</td>\n",
       "      <td>Other-relative</td>\n",
       "      <td>White</td>\n",
       "      <td>Male</td>\n",
       "      <td>0</td>\n",
       "      <td>0</td>\n",
       "      <td>45</td>\n",
       "      <td>United-States</td>\n",
       "      <td>0</td>\n",
       "    </tr>\n",
       "  </tbody>\n",
       "</table>\n",
       "</div>"
      ],
      "text/plain": [
       "      age workclass  fnlwgt    education  education-num  marital-status  \\\n",
       "7725   53   Private   30447      HS-grad              9        Divorced   \n",
       "695    25         ?  202480   Assoc-acdm             12   Never-married   \n",
       "\n",
       "              occupation     relationship    race    sex  capital-gain  \\\n",
       "7725   Machine-op-inspct    Not-in-family   White   Male             0   \n",
       "695                    ?   Other-relative   White   Male             0   \n",
       "\n",
       "      capital-loss  hours-per-week  native-country  income  \n",
       "7725             0              50   United-States       0  \n",
       "695              0              45   United-States       0  "
      ]
     },
     "execution_count": 93,
     "metadata": {},
     "output_type": "execute_result"
    }
   ],
   "source": [
    "test = X_test.copy()\n",
    "test[\"income\"] = y_test\n",
    "test.head(2)"
   ]
  },
  {
   "cell_type": "code",
   "execution_count": 94,
   "metadata": {
    "id": "Q4W5YbD2LbGw"
   },
   "outputs": [
    {
     "data": {
      "text/html": [
       "<div>\n",
       "<style scoped>\n",
       "    .dataframe tbody tr th:only-of-type {\n",
       "        vertical-align: middle;\n",
       "    }\n",
       "\n",
       "    .dataframe tbody tr th {\n",
       "        vertical-align: top;\n",
       "    }\n",
       "\n",
       "    .dataframe thead th {\n",
       "        text-align: right;\n",
       "    }\n",
       "</style>\n",
       "<table border=\"1\" class=\"dataframe\">\n",
       "  <thead>\n",
       "    <tr style=\"text-align: right;\">\n",
       "      <th></th>\n",
       "      <th>AUC-PR</th>\n",
       "      <th>time_sec</th>\n",
       "    </tr>\n",
       "  </thead>\n",
       "  <tbody>\n",
       "    <tr>\n",
       "      <th>OrdinalEncoder</th>\n",
       "      <td>0.682233</td>\n",
       "      <td>0.750488</td>\n",
       "    </tr>\n",
       "    <tr>\n",
       "      <th>OneHotEncoder</th>\n",
       "      <td>0.767133</td>\n",
       "      <td>0.964307</td>\n",
       "    </tr>\n",
       "    <tr>\n",
       "      <th>MeanTargetEncoder</th>\n",
       "      <td>0.648893</td>\n",
       "      <td>0.110498</td>\n",
       "    </tr>\n",
       "  </tbody>\n",
       "</table>\n",
       "</div>"
      ],
      "text/plain": [
       "                     AUC-PR  time_sec\n",
       "OrdinalEncoder     0.682233  0.750488\n",
       "OneHotEncoder      0.767133  0.964307\n",
       "MeanTargetEncoder  0.648893  0.110498"
      ]
     },
     "execution_count": 94,
     "metadata": {},
     "output_type": "execute_result"
    }
   ],
   "source": [
    "def mean_target_encoding(data):\n",
    "    for c in categorical:\n",
    "        mean = data.groupby(c)['income'].mean()\n",
    "        data[c] = data[c].map(mean)\n",
    "    return data\n",
    "\n",
    "column_transformer = ColumnTransformer([\n",
    "    ('scaling', StandardScaler(), numeric_features)\n",
    "])\n",
    "\n",
    "model = Pipeline(steps=[\n",
    "    ('scaling', column_transformer),\n",
    "    ('logistic_regression', LogisticRegression(max_iter=100000))\n",
    "])\n",
    "\n",
    "start = time.time()\n",
    "train = mean_target_encoding(train)\n",
    "model = model.fit(train.drop(columns=['income']), train['income'])\n",
    "end = time.time()\n",
    "\n",
    "test = mean_target_encoding(test)\n",
    "precision, recall, _ = precision_recall_curve(test['income'], model.decision_function(test.drop(columns=['income'])))\n",
    "\n",
    "df.loc[\"MeanTargetEncoder\"] = [auc(recall, precision), end - start]\n",
    "df"
   ]
  },
  {
   "cell_type": "markdown",
   "metadata": {
    "id": "ABXherJ3LGBj"
   },
   "source": [
    "##### __Бонус: Эффективная реализация (1 балл)__\n",
    "\n",
    "Здесь и далее реализуйте вычисление счетчиков с помощью трансформера (наследуйтесь от классов `BaseEstimator, TransformerMixin` из `sklearn.base`). Обратите внимание, что все вычисления должны быть векторизованными, трансформер не должен модифицировать передаваемую ему выборку inplace, а все необходимые статистики нужно считать только по обучающей выборке в методе `fit`. Ваш трансформер должен принимать при инициализации список из категориальных признаков и изменять только их. "
   ]
  },
  {
   "cell_type": "code",
   "execution_count": null,
   "metadata": {
    "id": "Kk8D4dDuP75b"
   },
   "outputs": [],
   "source": [
    "#your code here"
   ]
  },
  {
   "cell_type": "markdown",
   "metadata": {
    "id": "bH-JPoINqJ62"
   },
   "source": [
    "_______\n",
    "\n",
    "__Методы борьбы с переобучением счетчиков__\n",
    "\n",
    "\n",
    "Отметим, что mean-target encoding признаки сами по себе являются классификаторами и, обучаясь на них, мы допускаем \"утечку\" целевой переменной в признаки. Это ведёт к __переобучению__, поэтому считать такие признаки необходимо таким образом, чтобы при вычислении для конкретного объекта его __целевая метка не использовалась__.\n",
    "\n",
    "Это можно делать следующими способами:\n",
    "1. Вычислять значение счётчика по всем объектам расположенным выше в датасете (например, если у нас выборка отсортирована по времени).\n",
    "2. Вычислять по фолдам, то есть делить выборку на некоторое количество частей и подсчитывать значение признаков по всем фолдам кроме текущего (как делается в кросс-валидации).\n",
    "3. Внесение некоторого шума в посчитанные признаки.\n",
    "\n",
    "#### __Задание 6. Пошумим__  (0.5 балла)\n",
    "\n",
    "Реализуйте корректное вычисление счётчиков самым простым способом — добавление шума к значениям.  При этом постарайтесь найти баланс между борьбой с переобучением и сохранением полезности признаков. Снова обучите логистическую регрессию, оцените качество. Сделайте выводы."
   ]
  },
  {
   "cell_type": "code",
   "execution_count": 100,
   "metadata": {
    "id": "HiqJBxrAP75c"
   },
   "outputs": [
    {
     "data": {
      "text/html": [
       "<div>\n",
       "<style scoped>\n",
       "    .dataframe tbody tr th:only-of-type {\n",
       "        vertical-align: middle;\n",
       "    }\n",
       "\n",
       "    .dataframe tbody tr th {\n",
       "        vertical-align: top;\n",
       "    }\n",
       "\n",
       "    .dataframe thead th {\n",
       "        text-align: right;\n",
       "    }\n",
       "</style>\n",
       "<table border=\"1\" class=\"dataframe\">\n",
       "  <thead>\n",
       "    <tr style=\"text-align: right;\">\n",
       "      <th></th>\n",
       "      <th>AUC-PR</th>\n",
       "      <th>time_sec</th>\n",
       "    </tr>\n",
       "  </thead>\n",
       "  <tbody>\n",
       "    <tr>\n",
       "      <th>OrdinalEncoder</th>\n",
       "      <td>0.682233</td>\n",
       "      <td>0.750488</td>\n",
       "    </tr>\n",
       "    <tr>\n",
       "      <th>OneHotEncoder</th>\n",
       "      <td>0.767133</td>\n",
       "      <td>0.964307</td>\n",
       "    </tr>\n",
       "    <tr>\n",
       "      <th>MeanTargetEncoder</th>\n",
       "      <td>0.648893</td>\n",
       "      <td>0.110498</td>\n",
       "    </tr>\n",
       "    <tr>\n",
       "      <th>MeanTargetEncoderNoise</th>\n",
       "      <td>0.648893</td>\n",
       "      <td>0.068080</td>\n",
       "    </tr>\n",
       "  </tbody>\n",
       "</table>\n",
       "</div>"
      ],
      "text/plain": [
       "                          AUC-PR  time_sec\n",
       "OrdinalEncoder          0.682233  0.750488\n",
       "OneHotEncoder           0.767133  0.964307\n",
       "MeanTargetEncoder       0.648893  0.110498\n",
       "MeanTargetEncoderNoise  0.648893  0.068080"
      ]
     },
     "execution_count": 100,
     "metadata": {},
     "output_type": "execute_result"
    }
   ],
   "source": [
    "def add_noise(data):\n",
    "    for c in categorical:\n",
    "        data[c] += np.random.uniform(low=-10.0, high=10.0, size=len(data[c]))\n",
    "    return data\n",
    "\n",
    "column_transformer = ColumnTransformer([\n",
    "    ('scaling', StandardScaler(), numeric_features)\n",
    "])\n",
    "\n",
    "model = Pipeline(steps=[\n",
    "    ('scaling', column_transformer),\n",
    "    ('logistic_regression', LogisticRegression(max_iter=100000))\n",
    "])\n",
    "\n",
    "start = time.time()\n",
    "train = add_noise(train)\n",
    "model = model.fit(train.drop(columns=['income']), train['income'])\n",
    "end = time.time()\n",
    "\n",
    "test = add_noise(test)\n",
    "precision, recall, _ = precision_recall_curve(test['income'], model.decision_function(test.drop(columns=['income'])))\n",
    "\n",
    "df.loc[\"MeanTargetEncoderNoise\"] = [auc(recall, precision), end - start]\n",
    "df"
   ]
  },
  {
   "cell_type": "markdown",
   "metadata": {
    "id": "1GtUtPCjP75c"
   },
   "source": [
    "##### __Бонус: другой подход__ (0.5 балла)\n",
    "\n",
    "Посчитайте корректные счётчики первым или вторым способов из описанных выше (не забудьте добавить и шум).\n",
    "\n",
    "\n"
   ]
  },
  {
   "cell_type": "markdown",
   "metadata": {
    "id": "aMe2b5i6P75d"
   },
   "source": [
    "#### __Задание 7. Сглаживание счетчиков__  (1 балл)"
   ]
  },
  {
   "cell_type": "markdown",
   "metadata": {
    "id": "4gnmTaJqP75d"
   },
   "source": [
    "> Теперь ответим на следующий вопрос: что будет, если некоторая категория встречается в выборке всего несколько раз? По этой причине производится сглаживание счётчиков. Например, на практике хорошие результаты показывает использование сглаживания средним по всей выборке:\n",
    "$$\n",
    "g_j(x, X) = \\frac{\\sum_{i=1}^{\\ell} [f_j(x) = f_j(x_i)][y_i = +1] + C \\times global\\_mean}{\\sum_{i=1}^{\\ell} [f_j(x) = f_j(x_i)] + C}\n",
    "$$\n",
    "где $global\\_mean$ — доля объектов положительного класса в выборке, $C$ — параметр, определяющий степень сглаживания (можно использовать 10 или подобрать для каждого признака свой). Идея в том, что мы \"разбавляем\" среднее значение по категории глобальным средним значением. И тем меньше, чем большее количество объектов этой категории встречается в выборке. \n",
    "\n",
    "> Вместо среднего значения целевой переменной для сглаживания можно использовать любое другое значение от 0 до 1 (этот параметр иногда называют $prior$). Можно сделать несколько признаков с разными значениями параметра. На практике в задачах бинарной классификации полезными бывают даже отрицательные значения!\n",
    "\n",
    "Добавьте сглаживание, описанное выше и повторите эксперименты.\n"
   ]
  },
  {
   "cell_type": "code",
   "execution_count": 111,
   "metadata": {
    "id": "4xRMlYQlP75d"
   },
   "outputs": [
    {
     "data": {
      "text/html": [
       "<div>\n",
       "<style scoped>\n",
       "    .dataframe tbody tr th:only-of-type {\n",
       "        vertical-align: middle;\n",
       "    }\n",
       "\n",
       "    .dataframe tbody tr th {\n",
       "        vertical-align: top;\n",
       "    }\n",
       "\n",
       "    .dataframe thead th {\n",
       "        text-align: right;\n",
       "    }\n",
       "</style>\n",
       "<table border=\"1\" class=\"dataframe\">\n",
       "  <thead>\n",
       "    <tr style=\"text-align: right;\">\n",
       "      <th></th>\n",
       "      <th>AUC-PR</th>\n",
       "      <th>time_sec</th>\n",
       "    </tr>\n",
       "  </thead>\n",
       "  <tbody>\n",
       "    <tr>\n",
       "      <th>OrdinalEncoder</th>\n",
       "      <td>0.682233</td>\n",
       "      <td>0.750488</td>\n",
       "    </tr>\n",
       "    <tr>\n",
       "      <th>OneHotEncoder</th>\n",
       "      <td>0.767133</td>\n",
       "      <td>0.964307</td>\n",
       "    </tr>\n",
       "    <tr>\n",
       "      <th>MeanTargetEncoder</th>\n",
       "      <td>0.648893</td>\n",
       "      <td>0.110498</td>\n",
       "    </tr>\n",
       "    <tr>\n",
       "      <th>MeanTargetEncoderNoise</th>\n",
       "      <td>0.648893</td>\n",
       "      <td>0.068080</td>\n",
       "    </tr>\n",
       "    <tr>\n",
       "      <th>MeanTargetEncoderSmooth</th>\n",
       "      <td>0.648893</td>\n",
       "      <td>0.143070</td>\n",
       "    </tr>\n",
       "  </tbody>\n",
       "</table>\n",
       "</div>"
      ],
      "text/plain": [
       "                           AUC-PR  time_sec\n",
       "OrdinalEncoder           0.682233  0.750488\n",
       "OneHotEncoder            0.767133  0.964307\n",
       "MeanTargetEncoder        0.648893  0.110498\n",
       "MeanTargetEncoderNoise   0.648893  0.068080\n",
       "MeanTargetEncoderSmooth  0.648893  0.143070"
      ]
     },
     "execution_count": 111,
     "metadata": {},
     "output_type": "execute_result"
    }
   ],
   "source": [
    "train = X_train.copy()\n",
    "train[\"income\"] = y_train\n",
    "\n",
    "test = X_test.copy()\n",
    "test[\"income\"] = y_test\n",
    "\n",
    "def mean_target_encoding_smooth(data, C):\n",
    "    for c in categorical:\n",
    "        mean = (data.groupby(c)['income'].sum() + C * data['income'].mean()) / (data.groupby(c)['income'].size() + C)\n",
    "        data[c] = data[c].map(mean)\n",
    "    return data\n",
    "\n",
    "def add_noise(data):\n",
    "    for c in categorical:\n",
    "        data[c] += np.random.uniform(low=-10.0, high=10.0, size=len(data[c]))\n",
    "    return data\n",
    "\n",
    "column_transformer = ColumnTransformer([\n",
    "    ('scaling', StandardScaler(), numeric_features)\n",
    "])\n",
    "\n",
    "model = Pipeline(steps=[\n",
    "    ('scaling', column_transformer),\n",
    "    ('logistic_regression', LogisticRegression(max_iter=100000))\n",
    "])\n",
    "\n",
    "start = time.time()\n",
    "train = mean_target_encoding_smooth(train, 10)\n",
    "model = model.fit(train.drop(columns=['income']), train['income'])\n",
    "end = time.time()\n",
    "\n",
    "test = mean_target_encoding_smooth(test, 10)\n",
    "precision, recall, _ = precision_recall_curve(test['income'], model.decision_function(test.drop(columns=['income'])))\n",
    "\n",
    "df.loc[\"MeanTargetEncoderSmooth\"] = [auc(recall, precision), end - start]\n",
    "df"
   ]
  },
  {
   "cell_type": "markdown",
   "metadata": {
    "id": "TksKMbr_P75d"
   },
   "source": [
    "#### __Задание 8. И все-таки числовой?__  (0.5 балла)\n",
    "\n",
    "В данных имеются признаки \"возраст\" и \"число рабочих часов в неделю\". Сейчас мы интерпретируем их как числовые, что в общем случае для линейной модели может быть неверной гипотезой. Тем не менее, у этих признаков есть довольно много уникальных значений (сколько?), поэтому применять к ним one-hot кодирование может оказаться излишним. Попробуйте закодировать эти признаки с помощью счетчиков (вместе и по отдельности). Стало ли лучше?\n",
    "\n"
   ]
  },
  {
   "cell_type": "code",
   "execution_count": null,
   "metadata": {
    "id": "NGE4O-alP75e"
   },
   "outputs": [],
   "source": [
    "#your code here"
   ]
  },
  {
   "cell_type": "markdown",
   "metadata": {
    "id": "2mwXyUnOP75e"
   },
   "source": [
    "> __Замечание.__ Усложнение методов вычисления счётчиков не делают результаты модели гарантированно лучше. Особенно с учётом того, что логистическая регрессия не такая сложная модель, чтобы переобучаться. Поэтому вы необязательно должны были получать на каждом шаге всё лучшие и лучшие результаты (но необходимые результаты у вас должны были получиться).\n",
    "\n",
    "Как мы могли пронаблюдать, счётчики являются конкурентной альтернативой one-hot-кодированию. Опишите, какие плюсы и минусы использования счётчиков по сравнению с one-hot-кодированием вы заметили.\n",
    "\n",
    "__Ответ:__ # your answer here"
   ]
  },
  {
   "cell_type": "markdown",
   "metadata": {
    "id": "_oU4I7HjP75f"
   },
   "source": [
    "# Часть 3. Отбор признаков"
   ]
  },
  {
   "cell_type": "markdown",
   "metadata": {
    "id": "JKb6BsQMP75f"
   },
   "source": [
    "Важной частью процесса построения модели является отбор признаков. На практике многие признаки оказывают малое влияние на модель (при этом их расчёт занимает время) или даже негативно сказываются на качестве модели. Попробуем несколько подходов отбора признаков, оценим, как они влияют на качество модели и сколько времени занимают.\n",
    "\n",
    "Обратимся к тем же данным про предсказание дохода."
   ]
  },
  {
   "cell_type": "code",
   "execution_count": 159,
   "metadata": {
    "id": "k-_L9TJ8P75f"
   },
   "outputs": [],
   "source": [
    "columns = ['age', 'workclass', 'fnlwgt', 'education', \n",
    "           'education-num', 'marital-status', 'occupation',\n",
    "           'relationship', 'race', 'sex', 'capital-gain', \n",
    "           'capital-loss', 'hours-per-week', 'native-country',\n",
    "           'income']\n",
    "\n",
    "df = pd.read_csv('adult.data', header=None, names=columns)\n",
    "df['income'] = (df['income'] != \" <=50K\").astype('int32')"
   ]
  },
  {
   "cell_type": "markdown",
   "metadata": {
    "id": "iGqys4ZpiXjr"
   },
   "source": [
    "Разделите выборку на обучающую и тестовую в соотношении 3:1. Зафиксируйте `random_state=777`, также используйте `stratify`. "
   ]
  },
  {
   "cell_type": "code",
   "execution_count": 160,
   "metadata": {
    "id": "M2TT35c_iYc-"
   },
   "outputs": [],
   "source": [
    "train, test = train_test_split(df, test_size=0.25, random_state=777, stratify=y)"
   ]
  },
  {
   "cell_type": "markdown",
   "metadata": {
    "id": "-uAlw2X-P75f"
   },
   "source": [
    "Давайте закодируем все категориальные признаки с помощью One-hot Encoding, считая возраст и число часов числовыми. Сколько новых признаков мы получим?"
   ]
  },
  {
   "cell_type": "code",
   "execution_count": 161,
   "metadata": {},
   "outputs": [
    {
     "data": {
      "text/plain": [
       "(24420, 15)"
      ]
     },
     "execution_count": 161,
     "metadata": {},
     "output_type": "execute_result"
    }
   ],
   "source": [
    "train.shape"
   ]
  },
  {
   "cell_type": "code",
   "execution_count": 162,
   "metadata": {},
   "outputs": [
    {
     "data": {
      "text/plain": [
       "(24420, 108)"
      ]
     },
     "execution_count": 162,
     "metadata": {},
     "output_type": "execute_result"
    }
   ],
   "source": [
    "X_train = train.drop(columns=['income'])\n",
    "y_train = train['income']\n",
    "\n",
    "column_transformer = ColumnTransformer([\n",
    "    ('ohe', OneHotEncoder(handle_unknown=\"ignore\"), categorical),\n",
    "    ('scaling', StandardScaler(), numeric_features)\n",
    "])\n",
    "\n",
    "ohe = column_transformer.fit(X_train, y_train)\n",
    "# ohe.get_feature_names_out()\n",
    "X_train = column_transformer.transform(X_train)\n",
    "X_train.shape"
   ]
  },
  {
   "cell_type": "markdown",
   "metadata": {},
   "source": [
    "В качестве основной модели будем использовать логистическую регрессию, а целевой метрики — `AUC-PR`. Обучите модель и посчитайте качество на тестовой выборке. Давайте запомним полученное значение."
   ]
  },
  {
   "cell_type": "code",
   "execution_count": 163,
   "metadata": {},
   "outputs": [
    {
     "data": {
      "text/html": [
       "<div>\n",
       "<style scoped>\n",
       "    .dataframe tbody tr th:only-of-type {\n",
       "        vertical-align: middle;\n",
       "    }\n",
       "\n",
       "    .dataframe tbody tr th {\n",
       "        vertical-align: top;\n",
       "    }\n",
       "\n",
       "    .dataframe thead th {\n",
       "        text-align: right;\n",
       "    }\n",
       "</style>\n",
       "<table border=\"1\" class=\"dataframe\">\n",
       "  <thead>\n",
       "    <tr style=\"text-align: right;\">\n",
       "      <th></th>\n",
       "      <th>AUC-PR</th>\n",
       "    </tr>\n",
       "  </thead>\n",
       "  <tbody>\n",
       "    <tr>\n",
       "      <th>lr_ohe</th>\n",
       "      <td>0.767133</td>\n",
       "    </tr>\n",
       "  </tbody>\n",
       "</table>\n",
       "</div>"
      ],
      "text/plain": [
       "          AUC-PR\n",
       "lr_ohe  0.767133"
      ]
     },
     "execution_count": 163,
     "metadata": {},
     "output_type": "execute_result"
    }
   ],
   "source": [
    "model = LogisticRegression(max_iter=100000)\n",
    "model.fit(X_train, y_train)\n",
    "\n",
    "X_test = test.drop(columns=['income'])\n",
    "y_test = test['income']\n",
    "X_test = column_transformer.transform(X_test)\n",
    "precision, recall, _ = precision_recall_curve(y_test, model.decision_function(X_test))\n",
    "\n",
    "df = pd.DataFrame(columns=[\"AUC-PR\"])\n",
    "df.loc[\"lr_ohe\"] = [auc(recall, precision)]\n",
    "df"
   ]
  },
  {
   "cell_type": "markdown",
   "metadata": {
    "id": "QD7jIiDeP75g"
   },
   "source": [
    "#### __Задание 9. Встроенные методы (0.5 балла)__"
   ]
  },
  {
   "cell_type": "markdown",
   "metadata": {
    "id": "bf2T9xtUP75g"
   },
   "source": [
    "Допустим, мы хотим оставить только 40 лучших признаков. Попробуем сделать это несколькими способами.\n",
    "\n",
    "Начнём с отборам признаков с помощью линейной модели. Как известно, веса линейной модели означают вклад каждого признака в предсказание модели, а значит, модуль этого вклада можно интерпретировать как важность признаков. Такой метод отбора называются встроенным или embedded method, так как он заложен в особенности модели.\n",
    "\n",
    "Оставьте 40 признаков с наибольшим модулем соответствующего параметра линейной модели. Обучите модели заново и оцените её качество. Замерьте скорость такого отбора признаков.\n",
    "\n"
   ]
  },
  {
   "cell_type": "code",
   "execution_count": null,
   "metadata": {},
   "outputs": [
    {
     "data": {
      "text/plain": [
       "array([105,  26,  27,  52,  36,  62,  61,  71,  70,  43,  82, 104,  45,\n",
       "         1,  13,  42,  12,  90,  84,  65,  69,  44,  59,  99,  96, 107,\n",
       "       102,  74,  54,   5, 101,  48, 106,  35,  23,   4,  19,  33,  98,\n",
       "        57], dtype=int64)"
      ]
     },
     "execution_count": 145,
     "metadata": {},
     "output_type": "execute_result"
    }
   ],
   "source": [
    "ids = np.argsort(model.coef_[0])[::-1][:40]\n",
    "ids"
   ]
  },
  {
   "cell_type": "code",
   "execution_count": 156,
   "metadata": {},
   "outputs": [
    {
     "data": {
      "text/plain": [
       "(1, 108)"
      ]
     },
     "execution_count": 156,
     "metadata": {},
     "output_type": "execute_result"
    }
   ],
   "source": [
    "X_train[0].shape"
   ]
  },
  {
   "cell_type": "code",
   "execution_count": 157,
   "metadata": {},
   "outputs": [
    {
     "data": {
      "text/plain": [
       "(24420, 40)"
      ]
     },
     "execution_count": 157,
     "metadata": {},
     "output_type": "execute_result"
    }
   ],
   "source": [
    "X_train_new = X_train[:, ids]\n",
    "X_train_new.shape"
   ]
  },
  {
   "cell_type": "code",
   "execution_count": 168,
   "metadata": {},
   "outputs": [
    {
     "data": {
      "text/html": [
       "<div>\n",
       "<style scoped>\n",
       "    .dataframe tbody tr th:only-of-type {\n",
       "        vertical-align: middle;\n",
       "    }\n",
       "\n",
       "    .dataframe tbody tr th {\n",
       "        vertical-align: top;\n",
       "    }\n",
       "\n",
       "    .dataframe thead th {\n",
       "        text-align: right;\n",
       "    }\n",
       "</style>\n",
       "<table border=\"1\" class=\"dataframe\">\n",
       "  <thead>\n",
       "    <tr style=\"text-align: right;\">\n",
       "      <th></th>\n",
       "      <th>AUC-PR</th>\n",
       "    </tr>\n",
       "  </thead>\n",
       "  <tbody>\n",
       "    <tr>\n",
       "      <th>lr_ohe</th>\n",
       "      <td>0.767133</td>\n",
       "    </tr>\n",
       "    <tr>\n",
       "      <th>lr_ohe_40_features</th>\n",
       "      <td>0.764019</td>\n",
       "    </tr>\n",
       "  </tbody>\n",
       "</table>\n",
       "</div>"
      ],
      "text/plain": [
       "                      AUC-PR\n",
       "lr_ohe              0.767133\n",
       "lr_ohe_40_features  0.764019"
      ]
     },
     "execution_count": 168,
     "metadata": {},
     "output_type": "execute_result"
    }
   ],
   "source": [
    "model = LogisticRegression(max_iter=100000)\n",
    "model.fit(X_train_new, y_train)\n",
    "\n",
    "precision, recall, _ = precision_recall_curve(y_test, model.decision_function(X_test[:, ids]))\n",
    "\n",
    "df.loc[\"lr_ohe_40_features\"] = [auc(recall, precision)]\n",
    "df"
   ]
  },
  {
   "cell_type": "markdown",
   "metadata": {
    "id": "CCmtS99eVVrC"
   },
   "source": [
    "Изменилось ли качество? Как?"
   ]
  },
  {
   "cell_type": "markdown",
   "metadata": {
    "id": "E5y5hVyYP75h"
   },
   "source": [
    "Подумаем, что мы не учли. Мы действовали в предположении, что признаки вносят вклад равномерно, и не учитывали их масштаб. Если мы умножим один из признаков в 100 раз, то без учёта регуляризации его вес уменьшится в эти же 100 раз. А мы на основе этого отбираем признаки! Давайте сначала отмасштабируем признаки одним из способов, а только потом будем удалять признаки. \n",
    "\n",
    "Кстати, в таком случае надо пересчитать качество на всех признаках (сделайте это ниже). Если вы сделали нормирование признаков в самом начале, то попробуйте отобрать признаки на неотмасштабированных данных.\n",
    "\n",
    "Что получилось?"
   ]
  },
  {
   "cell_type": "code",
   "execution_count": null,
   "metadata": {
    "id": "qXytEuBgP75h"
   },
   "outputs": [],
   "source": [
    "#your code here"
   ]
  },
  {
   "cell_type": "markdown",
   "metadata": {
    "id": "OLZJRpxjP75h"
   },
   "source": [
    "Вопрос на засыпку: one-hot кодирование возвращает нам единичные признаки-индикаторы. Попробуйте также отскалировать их, как и обычные числовые, и снова выбрать 40 главных по вкладу признаков. Изменился ли их список? Изменится ли качество?"
   ]
  },
  {
   "cell_type": "code",
   "execution_count": null,
   "metadata": {
    "id": "VpGE8ll5P75h"
   },
   "outputs": [],
   "source": [
    "#your code here"
   ]
  },
  {
   "cell_type": "markdown",
   "metadata": {
    "id": "3nK78Ag2P75i"
   },
   "source": [
    "#### __Задание 10. Методы фильтрации (0.5 балла)__\n",
    "\n",
    "\n",
    "Давайте отбирать признаки умнее, а именно через подсчёт некоторой функции для каждого признака. На основании значений этой функции будем оставлять наиболее важные признаки. Методы этого семейства называют фильтрующими или  filter methods. \n",
    "\n",
    "В качестве такой функции будем считать t-статистику:\n",
    "\n",
    "$$t(j) = \\frac{|\\mu_+ - \\mu_-|}{\\sqrt{\\frac{n_+ \\sigma^2_+ + n_- \\sigma^2_-}{n_+ + n_-}}},$$\n",
    "\n",
    "где $\\mu$, $\\sigma$, $n$ соответственно среднее, стандартное отклонение и количество объектов каждого из классов.\n",
    "\n",
    "Оставьте 40 признаков с наибольшим значением $t$, замерьте качество и скорость отбора признаков.\n",
    "\n"
   ]
  },
  {
   "cell_type": "code",
   "execution_count": null,
   "metadata": {
    "id": "0snv1D-hP75i"
   },
   "outputs": [],
   "source": [
    "#your code here"
   ]
  },
  {
   "cell_type": "markdown",
   "metadata": {
    "id": "zO63RNCLP75i"
   },
   "source": [
    "#### __Задание 11. Методы-обёртки__ (1 балл) \n",
    "\n",
    "Третий из рассматриваемых нами методов работает следующим образом: мы исключаем по очереди один из признаков и смотрим, как это влияет на качество. Удаляем признаки таким жадным способом, пока не окажется выполненым некоторое условие (количество признаков или ухудшение качества). Более конкретно, на каждом шаге мы будем удалять такой признак $j$, что качество модели на множестве оставшихся признаков без $j$ максимально, то есть удалять мы будем наиболее бесполезный признак.\n",
    "\n",
    "Заметим, что нельзя оценивать качество по тестовой выборке, иначе мы можем переобучиться, как, например, при настройке гиперпараметров. Разделите обучающую выборку на 2 части, на одной из них обучайте модель без одного из признаков,  на второй части оценивайте качество. Исходную тестовую выборку стоит использовать только для финальной оценки качества.\n",
    "\n",
    "Снова оставьте только 40 признаков и оцените качество на тестовой выборке. Сколько времени занял такой отбор признаков?"
   ]
  },
  {
   "cell_type": "code",
   "execution_count": null,
   "metadata": {
    "id": "ISGdzDQQP75j"
   },
   "outputs": [],
   "source": [
    "# SequentialFeatureSelector"
   ]
  },
  {
   "cell_type": "markdown",
   "metadata": {
    "id": "1AEL4z61P75j"
   },
   "source": [
    "Стоит отметить, что с помощью такого метода можно пойти и в обратную сторону. Попробуйте _добавлять_ по одному самому полезному признаку в выборку до тех пор, пока не наберется 40 штук. Найдется ли порог, при котором добавление следующих признаков будет только ухудшать качество модели?"
   ]
  },
  {
   "cell_type": "code",
   "execution_count": null,
   "metadata": {
    "id": "ZzF8TzVFP75j"
   },
   "outputs": [],
   "source": [
    "#your code here"
   ]
  },
  {
   "cell_type": "markdown",
   "metadata": {
    "id": "wj6a-BERP75j"
   },
   "source": [
    "Давайте подведём итоги по отбору признаков. Назовите преимущества и недостатки каждого из методов. Какой метод привёл к наилучшему качеству?\n",
    "\n",
    "**Ответ:** "
   ]
  },
  {
   "cell_type": "markdown",
   "metadata": {
    "id": "zrR06pp7P75k"
   },
   "source": [
    "# Часть 4. Оценка экономического эффекта модели\n",
    "\n",
    "> В данной части мы займемся тем, что от вас скорее всего потребуется на реальной работе (помимо перекладки `json`, разумеется). А именно: \n",
    "- мы соберем несколько специализированных метрик качества,\n",
    "- попытаемся настроить модель на максимизацию _прибыли_,\n",
    "- оценим, сколько вообще получится заработать на этом.\n",
    "\n",
    "> Разумеется, здесь будет сделано множество упрощающих жизнь допущений, но обо всем по порядку. Если вы всё прослушали на экономике, то напомним, что выручка — это сколько денег нам принесли клиенты, а прибыль — выручка за вычетом расходов на зарплату и прочее."
   ]
  },
  {
   "cell_type": "markdown",
   "metadata": {
    "id": "NQkW5Xh6yip2"
   },
   "source": [
    "\n",
    "#### __Задание 12. Прогноз по доходам и расходам__ (1 балл)\n",
    "\n",
    "В этой части мы будем работать с данными [UCI Bank Marketing Dataset](https://archive.ics.uci.edu/ml/datasets/bank+marketing). Этот датасет содержит информацию о банковском телефонном маркетинге.\n",
    "\n",
    "__Объектом__ здесь является телефонный звонок потенциальному клиенту с предложением некоторой услуги (утверждается, что это краткосрочный депозит). В качестве признакового описания используются характеристики клиента (образование, брак и т.д.), данные о звонке и различные экономические индикаторы - более подробная информация представлена в файле `bank-additional-names.txt`.\n",
    "__Целевая переменная__ - ответ клиента (согласился ли он открыть депозит?)"
   ]
  },
  {
   "cell_type": "code",
   "execution_count": null,
   "metadata": {
    "id": "e9WBqQd1aAjp"
   },
   "outputs": [],
   "source": [
    "!wget https://archive.ics.uci.edu/ml/machine-learning-databases/00222/bank-additional.zip\n",
    "!unzip bank-additional.zip\n",
    "df = pd.read_csv('bank-additional/bank-additional-full.csv', sep=';')"
   ]
  },
  {
   "cell_type": "code",
   "execution_count": null,
   "metadata": {
    "id": "Gbw5k7lMaYT1"
   },
   "outputs": [],
   "source": [
    "df.head()"
   ]
  },
  {
   "cell_type": "code",
   "execution_count": null,
   "metadata": {
    "id": "qmxCn_Pz3kJB"
   },
   "outputs": [],
   "source": [
    "X = df.drop(columns=['duration', 'y'])\n",
    "y = (df.y == 'yes')"
   ]
  },
  {
   "cell_type": "markdown",
   "metadata": {
    "id": "lMKgtxfwaBEQ"
   },
   "source": [
    "В этой части не нужно делить выборку - мы будем использовать кросс-валидацию.  Используйте 5 фолдов, сделайте `shuffle=True, random_state=500`. По кросс-валидации у вас получится 5 вариантов обучающей и тестовой выборки."
   ]
  },
  {
   "cell_type": "code",
   "execution_count": null,
   "metadata": {
    "id": "xYPjtfnqP75k"
   },
   "outputs": [],
   "source": [
    "# your code here"
   ]
  },
  {
   "cell_type": "markdown",
   "metadata": {
    "id": "YIX-omTIyxtU"
   },
   "source": [
    "Обучите логистическую регрессию на каждой обучающей выборке (воспользуйтесь one-hot для категориальных признаков и `StandardScaler` для числовых, гиперпараметры по умолчанию) и сделайте предсказания для соответствующих тестовых выборок."
   ]
  },
  {
   "cell_type": "code",
   "execution_count": null,
   "metadata": {
    "id": "5V3f4cQryx6c"
   },
   "outputs": [],
   "source": [
    "# your code here"
   ]
  },
  {
   "cell_type": "markdown",
   "metadata": {
    "id": "CcuHfZjfzmnt"
   },
   "source": [
    "Допустим, работники вашего колл-центра получают за один звонок клиенту 1 доллар. При согласии клиента на предлагаемые условия он принесет в банк 10 долларов. Предположим, что всем положительным прогнозам ваши сотрудники решили позвонить. Посчитайте на всех тестовых выборках выручку и усредните. Также вычислите стандартное отклонение.\n",
    "- Сколько денег вы в среднем заработаете? \n",
    "- Сколько из заработанных денег придётся отдать операторам вашего колл-центра?"
   ]
  },
  {
   "cell_type": "code",
   "execution_count": null,
   "metadata": {
    "id": "0okqAh-AzWTX"
   },
   "outputs": [],
   "source": [
    "# your code here"
   ]
  },
  {
   "cell_type": "markdown",
   "metadata": {
    "id": "Da1x6u6wP75k"
   },
   "source": [
    "Внесем некоторую долю случайности. Пусть теперь согласный на условия клиент будет приносить не 10 долларов, а случайную величину, равномерно распределенную в интервале $[0;20)$. Проделайте все те же самые действия. Для имитации реальной ситуации **НЕ** фиксируйте `random_seed` при подсчете выручки с клиента. Что получилось?"
   ]
  },
  {
   "cell_type": "code",
   "execution_count": null,
   "metadata": {
    "id": "0AKmJpRAP75k"
   },
   "outputs": [],
   "source": [
    "#your code here"
   ]
  },
  {
   "cell_type": "markdown",
   "metadata": {
    "id": "O1g9FPExP75k"
   },
   "source": [
    "Настройте по кросс-валидации коэффициент регуляризации модели для максимизации прибыли (считайте как случайную величину выше). Удалось ли получить какой-то выигрыш? При каком коэффициенте регуляризациии прибыль максимальна? Постройте график зависимости ожидаемой прибыли от коэффициента, укажите стандартные отклонения (вам поможет `plt.errorbar`, [пример](https://jakevdp.github.io/PythonDataScienceHandbook/04.03-errorbars.html))."
   ]
  },
  {
   "cell_type": "code",
   "execution_count": null,
   "metadata": {
    "id": "YXx7qU5PP75l"
   },
   "outputs": [],
   "source": [
    "#your code here"
   ]
  },
  {
   "cell_type": "markdown",
   "metadata": {
    "id": "sdptRdaIP75l"
   },
   "source": [
    "Попробуйте запустить перебор несколько раз. Находится ли каждый раз один и тот же \"лучший\" коэффициент? Присутствует ли какая-то закономерность? Какие вы можете сделать из этого выводы?"
   ]
  },
  {
   "cell_type": "code",
   "execution_count": null,
   "metadata": {
    "id": "inD5UMbGP75l"
   },
   "outputs": [],
   "source": [
    "#your code here"
   ]
  },
  {
   "cell_type": "markdown",
   "metadata": {
    "id": "J0j8HubaP75l"
   },
   "source": [
    "#### __Задание 13. Ключевая метрика__ (1 балл)\n",
    "\n",
    "Выше мы уже описали примерную экономическую модель вашей задачи. Как вы считаете, что для вашего бизнеса важнее — хороший precision или recall модели? Почему?\n",
    "\n",
    "__Ответ:__ # your answer here\n",
    "\n"
   ]
  },
  {
   "cell_type": "markdown",
   "metadata": {
    "id": "4LFRNnrtP75m"
   },
   "source": [
    "> Вспомним, что на самом деле логистическая регрессия предсказывает нам вероятности положительного класса для объекта. Возможно, путем настройки __порога бинаризации__ этих вероятностей мы сможем получить какой-то выигрыш?\n",
    "\n",
    "Проверьте ваши рассуждения выше с помощью настройки порога бинаризации на кросс-валидации для максимизации прибыли. Воспользуйтесь сеткой от 0 до 1 с шагом 0.01. Напомним, что снижение порога дает нам более высокий recall и более низкий precision, и наоборот."
   ]
  },
  {
   "cell_type": "code",
   "execution_count": null,
   "metadata": {
    "id": "3ALl1YeBP75m"
   },
   "outputs": [],
   "source": [
    "#your code here"
   ]
  },
  {
   "cell_type": "markdown",
   "metadata": {
    "id": "fLL7uqb2P75m"
   },
   "source": [
    "Постройте график зависимости прибыли от порога бинаризации, также отметьте на нем стандартные отклонения. Выделите наилучший порог. \n",
    "\n",
    "\n",
    "__Вопрос:__ Замечаете ли вы какую-то закономерность? Для правильного ответа на этот вопрос попробуйте запустить несколько раз и задумайтесь, почему порог получается в какой-то конкретной области?"
   ]
  },
  {
   "cell_type": "code",
   "execution_count": null,
   "metadata": {
    "id": "K2D3BkVsP75m"
   },
   "outputs": [],
   "source": [
    "#your code here"
   ]
  },
  {
   "cell_type": "markdown",
   "metadata": {
    "id": "i7Ksl7b9P75m"
   },
   "source": [
    "Каковы значения precision и recall на выбранном пороге? Оцените по кросс-валидации. Также вычислите стандартное отклонение."
   ]
  },
  {
   "cell_type": "code",
   "execution_count": null,
   "metadata": {
    "id": "i0fwjmYGP75n"
   },
   "outputs": [],
   "source": [
    "#your code here"
   ]
  },
  {
   "cell_type": "markdown",
   "metadata": {
    "id": "H4xmz6caP75n"
   },
   "source": [
    "Можно пронаблюдать, что наша модель склоняется к более высокому recall. Попробуйте оценить качество модели с помощью `PR-AUC` в зоне recall $\\geq$ 0.5. Сделайте это следующим образом:\n",
    "- выберите только те пороги, на которых достигается необходимый recall,\n",
    "- затем интерпретируйте отсеченный в единичном квадрате прямоугольник как новый единичный квадрат,\n",
    "- посчитайте площадь под отсеченной кривой"
   ]
  },
  {
   "cell_type": "code",
   "execution_count": null,
   "metadata": {
    "id": "lbYWnxfgP75n"
   },
   "outputs": [],
   "source": [
    "#your code here"
   ]
  },
  {
   "cell_type": "markdown",
   "metadata": {
    "id": "ACYk14eyP75n"
   },
   "source": [
    "__Бонус (0.01 балла):__ что вы кушали в день сдачи данного ДЗ на завтрак?\n",
    "\n",
    "__Ответ:__"
   ]
  }
 ],
 "metadata": {
  "colab": {
   "collapsed_sections": [
    "eMwMhTpA1MwR"
   ],
   "provenance": []
  },
  "kernelspec": {
   "display_name": "Python 3 (ipykernel)",
   "language": "python",
   "name": "python3"
  },
  "language_info": {
   "codemirror_mode": {
    "name": "ipython",
    "version": 3
   },
   "file_extension": ".py",
   "mimetype": "text/x-python",
   "name": "python",
   "nbconvert_exporter": "python",
   "pygments_lexer": "ipython3",
   "version": "3.8.10"
  }
 },
 "nbformat": 4,
 "nbformat_minor": 1
}
